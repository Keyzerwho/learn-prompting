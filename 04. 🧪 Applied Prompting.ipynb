{
 "cells": [
  {
   "attachments": {},
   "cell_type": "markdown",
   "metadata": {},
   "source": [
    "# 🧪 Applied Prompting"
   ]
  },
  {
   "attachments": {},
   "cell_type": "markdown",
   "metadata": {},
   "source": [
    "### Config"
   ]
  },
  {
   "cell_type": "code",
   "execution_count": 1,
   "metadata": {},
   "outputs": [],
   "source": [
    "from IPython.display import display, Markdown\n",
    "from config import OPENAI_API_KEY\n",
    "import openai\n",
    "import os"
   ]
  },
  {
   "cell_type": "code",
   "execution_count": 2,
   "metadata": {},
   "outputs": [],
   "source": [
    "# Set up your OpenAI API key\n",
    "openai.api_key = OPENAI_API_KEY\n",
    "\n",
    "# Define function for printing long strings as markdown\n",
    "md_print = lambda text: display(Markdown(text))"
   ]
  },
  {
   "attachments": {},
   "cell_type": "markdown",
   "metadata": {},
   "source": [
    "## Introduction\n",
    "\n",
    "In this section we go over end-to-end prompt engineering processes written by community members!\n",
    "\n",
    "Let's recreate our function to call GPT with a single prompt, and out Chatbot:"
   ]
  },
  {
   "cell_type": "code",
   "execution_count": 3,
   "metadata": {},
   "outputs": [],
   "source": [
    "# Call ChatGPT API with prompt\n",
    "def call_GPT(prompt, model):\n",
    "    if model == \"gpt-3.5-turbo\":\n",
    "        completion = openai.ChatCompletion.create(\n",
    "        model=\"gpt-3.5-turbo\",\n",
    "        messages=[{\"role\": \"user\", \"content\": prompt}]\n",
    "        )\n",
    "        response = completion.choices[0].message.content\n",
    "    elif model == \"text-davinci-003\":\n",
    "        completion = openai.Completion.create(\n",
    "        model=\"text-davinci-003\",\n",
    "        prompt=prompt,\n",
    "        max_tokens=2000\n",
    "        )\n",
    "        response=completion['choices'][0]['text']\n",
    "    else:\n",
    "        raise ValueError(\"Model must be gpt-3.5-turbo or text-davinci-003\")\n",
    "    # Parse results and print them out\n",
    "    md_print(f'Jacob: {prompt}')\n",
    "    md_print(f'GPT: {response}')\n",
    "\n",
    "# Create a chatbot class\n",
    "\n",
    "class ChatBot:\n",
    "    def __init__(self):\n",
    "        # List to keep track of conversation history\n",
    "        self.context = []\n",
    "        \n",
    "    def new_message(self, prompt, verbose_last_message_only=True):\n",
    "        # Append user prompt to chatbot context\n",
    "        self.context.append({\"role\": \"user\", \"content\": prompt})\n",
    "\n",
    "        # Create assistant response\n",
    "        completion = openai.ChatCompletion.create(\n",
    "            model=\"gpt-3.5-turbo\",\n",
    "            messages=self.context\n",
    "        )\n",
    "\n",
    "        # Parse assistant response\n",
    "        chat_response = completion.choices[0].message.content\n",
    "\n",
    "        # Add assistant response to context\n",
    "        self.context.append({\"role\": \"assistant\", \"content\": chat_response})\n",
    "\n",
    "        # selecting message to print\n",
    "        if verbose_last_message_only == True:\n",
    "            print_messages = self.context[-2:]\n",
    "        else:\n",
    "            print_messages = self.context\n",
    "\n",
    "        # Print out conversation\n",
    "        for message in print_messages:\n",
    "            if message[\"role\"] == \"user\":\n",
    "                md_print(f'Jacob: {message[\"content\"]}')\n",
    "            else:\n",
    "                md_print(f'GPT: {message[\"content\"]}')  "
   ]
  },
  {
   "attachments": {},
   "cell_type": "markdown",
   "metadata": {},
   "source": [
    "## Mutliple Choice Questions"
   ]
  },
  {
   "cell_type": "code",
   "execution_count": 4,
   "metadata": {},
   "outputs": [
    {
     "data": {
      "text/markdown": [
       "Jacob: \n",
       "John of Worcester, an English monk, recorded the sighting, on December 8, 1128, of two unusually large sunspots. \n",
       "Five days later a brilliant aurora borealis (northern lights) was observed in southern Korea. \n",
       "Sunspot activity is typically followed by the appearance of an aurora borealis, after a span of time that averages five days. \n",
       "Thus, the Korean sighting helps to confirm John of Worcester's sighting. Which one of the following, if true, most strengthens the argument?\n",
       "\n",
       "\n",
       "a) An aurora borealis can sometimes occur even when there has been no significant sunspot activity in the previous week. \n",
       "b) Chinese sources recorded the sighting of sunspots more than 1000 years before John of Worcester did. \n",
       "c) Only heavy sunspot activity could have resulted in an aurora borealis viewable at a latitude as low as that of Korea. \n",
       "d) Because it is impossible to view sunspots with the naked eye under typical daylight conditions, the sighting recorded by John of Worcester would have taken place under unusual weather conditions such as fog or thin clouds. \n",
       "e) John of Worcester's account included a drawing of the sunspots, which could be the earliest illustration of sunspot activity.\n"
      ],
      "text/plain": [
       "<IPython.core.display.Markdown object>"
      ]
     },
     "metadata": {},
     "output_type": "display_data"
    },
    {
     "data": {
      "text/markdown": [
       "GPT: \n",
       "C) Only heavy sunspot activity could have resulted in an aurora borealis viewable at a latitude as low as that of Korea."
      ],
      "text/plain": [
       "<IPython.core.display.Markdown object>"
      ]
     },
     "metadata": {},
     "output_type": "display_data"
    }
   ],
   "source": [
    "# Standard prompt\n",
    "\n",
    "standard_prompt = \"\"\"\n",
    "John of Worcester, an English monk, recorded the sighting, on December 8, 1128, of two unusually large sunspots. \n",
    "Five days later a brilliant aurora borealis (northern lights) was observed in southern Korea. \n",
    "Sunspot activity is typically followed by the appearance of an aurora borealis, after a span of time that averages five days. \n",
    "Thus, the Korean sighting helps to confirm John of Worcester's sighting. Which one of the following, if true, most strengthens the argument?\n",
    "\n",
    "\n",
    "a) An aurora borealis can sometimes occur even when there has been no significant sunspot activity in the previous week. \n",
    "b) Chinese sources recorded the sighting of sunspots more than 1000 years before John of Worcester did. \n",
    "c) Only heavy sunspot activity could have resulted in an aurora borealis viewable at a latitude as low as that of Korea. \n",
    "d) Because it is impossible to view sunspots with the naked eye under typical daylight conditions, the sighting recorded by John of Worcester would have taken place under unusual weather conditions such as fog or thin clouds. \n",
    "e) John of Worcester's account included a drawing of the sunspots, which could be the earliest illustration of sunspot activity.\n",
    "\"\"\"\n",
    "\n",
    "call_GPT(standard_prompt, 'text-davinci-003')"
   ]
  },
  {
   "cell_type": "code",
   "execution_count": 5,
   "metadata": {},
   "outputs": [
    {
     "data": {
      "text/markdown": [
       "Jacob: \n",
       "John of Worcester, an English monk, recorded the sighting, on December 8, 1128, of two unusually large sunspots. \n",
       "Five days later a brilliant aurora borealis (northern lights) was observed in southern Korea. \n",
       "Sunspot activity is typically followed by the appearance of an aurora borealis, after a span of time that averages five days. \n",
       "Thus, the Korean sighting helps to confirm John of Worcester's sighting. Which one of the following, if true, most strengthens the argument?\n",
       "\n",
       "\n",
       "a) An aurora borealis can sometimes occur even when there has been no significant sunspot activity in the previous week. \n",
       "b) Chinese sources recorded the sighting of sunspots more than 1000 years before John of Worcester did. \n",
       "c) Only heavy sunspot activity could have resulted in an aurora borealis viewable at a latitude as low as that of Korea. \n",
       "d) Because it is impossible to view sunspots with the naked eye under typical daylight conditions, the sighting recorded by John of Worcester would have taken place under unusual weather conditions such as fog or thin clouds. \n",
       "e) John of Worcester's account included a drawing of the sunspots, which could be the earliest illustration of sunspot activity.\n",
       "\n",
       "Let's explain step by step\n"
      ],
      "text/plain": [
       "<IPython.core.display.Markdown object>"
      ]
     },
     "metadata": {},
     "output_type": "display_data"
    },
    {
     "data": {
      "text/markdown": [
       "GPT: \n",
       "(a) This answer choice does not strengthen the argument, since it suggests that the aurora borealis had nothing to do with the sunspots John of Worcester recorded, which weakens the argument instead.\n",
       "\n",
       "(b) This answer choice does not strengthen the argument because it provides knowledge that is irrelevant to the argument.\n",
       "\n",
       "(c) This answer choice is the correct answer since it strengthens the argument by providing evidence of a correlation between the two phenomena, suggesting that the sunspots John of Worcester recorded did indeed contribute to the Korean sighting of the aurora borealis.\n",
       "\n",
       "(d) This answer choice does not strengthen the argument because it provides information that is not directly related to the argument.\n",
       "\n",
       "(e) This answer choice does not strengthen the argument because it does not provide evidence of a correlation between the two phenomena."
      ],
      "text/plain": [
       "<IPython.core.display.Markdown object>"
      ]
     },
     "metadata": {},
     "output_type": "display_data"
    }
   ],
   "source": [
    "# Zero-shot Chain of thought prompting\n",
    "zero_shot_cot_prompt = \"\"\"\n",
    "John of Worcester, an English monk, recorded the sighting, on December 8, 1128, of two unusually large sunspots. \n",
    "Five days later a brilliant aurora borealis (northern lights) was observed in southern Korea. \n",
    "Sunspot activity is typically followed by the appearance of an aurora borealis, after a span of time that averages five days. \n",
    "Thus, the Korean sighting helps to confirm John of Worcester's sighting. Which one of the following, if true, most strengthens the argument?\n",
    "\n",
    "\n",
    "a) An aurora borealis can sometimes occur even when there has been no significant sunspot activity in the previous week. \n",
    "b) Chinese sources recorded the sighting of sunspots more than 1000 years before John of Worcester did. \n",
    "c) Only heavy sunspot activity could have resulted in an aurora borealis viewable at a latitude as low as that of Korea. \n",
    "d) Because it is impossible to view sunspots with the naked eye under typical daylight conditions, the sighting recorded by John of Worcester would have taken place under unusual weather conditions such as fog or thin clouds. \n",
    "e) John of Worcester's account included a drawing of the sunspots, which could be the earliest illustration of sunspot activity.\n",
    "\n",
    "Let's explain step by step\n",
    "\"\"\"\n",
    "\n",
    "call_GPT(zero_shot_cot_prompt, 'text-davinci-003')"
   ]
  },
  {
   "cell_type": "code",
   "execution_count": 6,
   "metadata": {},
   "outputs": [
    {
     "data": {
      "text/markdown": [
       "Jacob: \n",
       "John of Worcester, an English monk, recorded the sighting, on December 8, 1128, of two unusually large sunspots. \n",
       "Five days later a brilliant aurora borealis (northern lights) was observed in southern Korea. \n",
       "Sunspot activity is typically followed by the appearance of an aurora borealis, after a span of time that averages five days. \n",
       "Thus, the Korean sighting helps to confirm John of Worcester's sighting. \n",
       "Which one of the following, if true, most strengthens the argument?\n",
       "\n",
       "a) John of Worcester's account included a drawing of the sunspots, which could be the earliest illustration of sunspot activity. \n",
       "b) Because it is impossible to view sunspots with the naked eye under typical daylight conditions, the sighting recorded by John of Worcester would have taken place under unusual weather conditions such as fog or thin clouds. \n",
       "c) An aurora borealis can sometimes occur even when there has been no significant sunspot activity in the previous week. \n",
       "d) Chinese sources recorded the sighting of sunspots more than 1000 years before John of Worcester did. \n",
       "e) Only heavy sunspot activity could have resulted in an aurora borealis viewable at a latitude as low as that of Korea. \n",
       "\n",
       "Let's explain step by step\n"
      ],
      "text/plain": [
       "<IPython.core.display.Markdown object>"
      ]
     },
     "metadata": {},
     "output_type": "display_data"
    },
    {
     "data": {
      "text/markdown": [
       "GPT: \n",
       "a) John of Worcester's account included a drawing of the sunspots, which could be the earliest illustration of sunspot activity. \n",
       "\n",
       "This answer choice does not help to strengthen the argument, because the drawing does not provide evidence of a connection between the sighting of sunspots and the aurora borealis. \n",
       "\n",
       "b) Because it is impossible to view sunspots with the naked eye under typical daylight conditions, the sighting recorded by John of Worcester would have taken place under unusual weather conditions such as fog or thin clouds. \n",
       "\n",
       "This answer choice does not help to strengthen the argument, because the weather conditions do not provide evidence of a connection between the sighting of sunspots and the aurora borealis. \n",
       "\n",
       "c) An aurora borealis can sometimes occur even when there has been no significant sunspot activity in the previous week. \n",
       "\n",
       "This answer choice does not help to strengthen the argument, because this suggests that sunspot activity and an aurora borealis can occur independently of one another. \n",
       "\n",
       "d) Chinese sources recorded the sighting of sunspots more than 1000 years before John of Worcester did. \n",
       "\n",
       "This answer choice does not help to strengthen the argument, because this does not provide evidence of a connection between the sighting of sunspots and the aurora borealis. \n",
       "\n",
       "e) Only heavy sunspot activity could have resulted in an aurora borealis viewable at a latitude as low as that of Korea. \n",
       "\n",
       "This is the correct answer choice because it strengthens the argument by providing evidence of a connection between the sighting of sunspots and the aurora borealis. This suggests that the sunspot activity reported by John of Worcester indeed caused the aurora borealis seen five days later in Korea."
      ],
      "text/plain": [
       "<IPython.core.display.Markdown object>"
      ]
     },
     "metadata": {},
     "output_type": "display_data"
    }
   ],
   "source": [
    "# Reorder question items\n",
    "reordered_items_prompt = \"\"\"\n",
    "John of Worcester, an English monk, recorded the sighting, on December 8, 1128, of two unusually large sunspots. \n",
    "Five days later a brilliant aurora borealis (northern lights) was observed in southern Korea. \n",
    "Sunspot activity is typically followed by the appearance of an aurora borealis, after a span of time that averages five days. \n",
    "Thus, the Korean sighting helps to confirm John of Worcester's sighting. \n",
    "Which one of the following, if true, most strengthens the argument?\n",
    "\n",
    "a) John of Worcester's account included a drawing of the sunspots, which could be the earliest illustration of sunspot activity. \n",
    "b) Because it is impossible to view sunspots with the naked eye under typical daylight conditions, the sighting recorded by John of Worcester would have taken place under unusual weather conditions such as fog or thin clouds. \n",
    "c) An aurora borealis can sometimes occur even when there has been no significant sunspot activity in the previous week. \n",
    "d) Chinese sources recorded the sighting of sunspots more than 1000 years before John of Worcester did. \n",
    "e) Only heavy sunspot activity could have resulted in an aurora borealis viewable at a latitude as low as that of Korea. \n",
    "\n",
    "Let's explain step by step\n",
    "\"\"\"\n",
    "\n",
    "call_GPT(reordered_items_prompt, 'text-davinci-003')"
   ]
  },
  {
   "cell_type": "code",
   "execution_count": 7,
   "metadata": {},
   "outputs": [
    {
     "data": {
      "text/markdown": [
       "Jacob: \n",
       "John of Worcester, an English monk, recorded the sighting, on December 8, 1128, of two unusually large sunspots. \n",
       "Five days later a brilliant aurora borealis (northern lights) was observed in southern Korea. \n",
       "Sunspot activity is typically followed by the appearance of an aurora borealis, after a span of time that averages five days. \n",
       "Thus, the Korean sighting helps to confirm John of Worcester's sighting. \n",
       "Which one of the following, if true, most strengthens the argument? \n",
       "\n",
       "a) An aurora borealis can sometimes occur even when there has been no significant sunspot activity in the previous week. \n",
       "b) Chinese sources recorded the sighting of sunspots more than 1000 years before John of Worcester did. \n",
       "c) Only heavy sunspot activity could have resulted in an aurora borealis viewable at a latitude as low as that of Korea. \n",
       "d) Because it is impossible to view sunspots with the naked eye under typical daylight conditions, the sighting recorded by John of Worcester would have taken place under unusual weather conditions such as fog or thin clouds. \n",
       "e) John of Worcester's account included a drawing of the sunspots, which could be the earliest illustration of sunspot activity.\n",
       "\n",
       "Identify each choice as strengthens, weakens or doesn't impact the argument and explain step by step.\n"
      ],
      "text/plain": [
       "<IPython.core.display.Markdown object>"
      ]
     },
     "metadata": {},
     "output_type": "display_data"
    },
    {
     "data": {
      "text/markdown": [
       "GPT: \n",
       "A) Strengthens - This strengthens the argument because it provides a reason why the aurora borealis might have been visible five days after the sighting of sunspots. Even though there had been no significant sunspot activity in the week leading up to the aurora, it is possible that small amounts of sunspot activity prior to the week before can still lead to an aurora. \n",
       "\n",
       "B) Doesn't Impact - This choice does not impact the argument. It provides no information to indicate whether or not the two sightings (the sunspots and the aurora) are connected to one another. \n",
       "\n",
       "C) Strengthens - This strengthens the argument because it provides evidence that the aurora borealis observed in Korea could have been a result of the sunspot activity observed in England. By noting that heavy sunspot activity would have been necessary to produce an aurora at such a low latitude, it becomes more likely that the two events are connected.\n",
       "\n",
       "D) Weakens - This weakens the argument because it provides evidence that the sunspots observed may not have been caused by sunspot activity. If the conditions were not ideal for viewing, then it is possible that John of Worcester observed something else in the sky which he mistaken for sunspots. \n",
       "\n",
       "E) Doesn't Impact - This choice does not impact the argument. It does not provide any information that supports a connection between the two sightings."
      ],
      "text/plain": [
       "<IPython.core.display.Markdown object>"
      ]
     },
     "metadata": {},
     "output_type": "display_data"
    }
   ],
   "source": [
    "# Reword the question\n",
    "\n",
    "# Changed \"Which one of the following, if true, most strengthens the argument?\" to \"Identify each choice as strengthens, weakens or doesn't impact the argument.\"\n",
    "reworded_question_prompt = \"\"\"\n",
    "John of Worcester, an English monk, recorded the sighting, on December 8, 1128, of two unusually large sunspots. \n",
    "Five days later a brilliant aurora borealis (northern lights) was observed in southern Korea. \n",
    "Sunspot activity is typically followed by the appearance of an aurora borealis, after a span of time that averages five days. \n",
    "Thus, the Korean sighting helps to confirm John of Worcester's sighting. \n",
    "Which one of the following, if true, most strengthens the argument? \n",
    "\n",
    "a) An aurora borealis can sometimes occur even when there has been no significant sunspot activity in the previous week. \n",
    "b) Chinese sources recorded the sighting of sunspots more than 1000 years before John of Worcester did. \n",
    "c) Only heavy sunspot activity could have resulted in an aurora borealis viewable at a latitude as low as that of Korea. \n",
    "d) Because it is impossible to view sunspots with the naked eye under typical daylight conditions, the sighting recorded by John of Worcester would have taken place under unusual weather conditions such as fog or thin clouds. \n",
    "e) John of Worcester's account included a drawing of the sunspots, which could be the earliest illustration of sunspot activity.\n",
    "\n",
    "Identify each choice as strengthens, weakens or doesn't impact the argument and explain step by step.\n",
    "\"\"\"\n",
    "\n",
    "call_GPT(reworded_question_prompt, 'text-davinci-003')"
   ]
  },
  {
   "attachments": {},
   "cell_type": "markdown",
   "metadata": {},
   "source": [
    "Let's try a different problem now"
   ]
  },
  {
   "cell_type": "code",
   "execution_count": 8,
   "metadata": {},
   "outputs": [
    {
     "data": {
      "text/markdown": [
       "Jacob: \n",
       "Consider two medical tests, A and B, for a virus. \n",
       "Test A is 90% effective at recognizing the virus when it is present, but has a 5% false positive rate (indicating that the virus is present, when it is not). \n",
       "Test B is 95% effective at recognizing the virus, but has a 10% false positive rate.\n",
       "The two tests use independent methods of identifying the virus. \n",
       "The virus is carried by 2% of all people.\n",
       "\n",
       "(a) Say that a person is tested for the virus using only Test A. \n",
       "What is the probability that the person is really carrying the virus given that Test A came back positive? (2 points)\n",
       "\n",
       "(b) Say that a person is tested for the virus using only Test B. \n",
       "What is the probability that the person is really carrying the virus given that Test B came back positive? (2 points)\n",
       "\n",
       "(c) Say that a person is tested for the virus using both tests. \n",
       "What is the probability that the person is really carrying the virus given that both tests came back positive? (2 points)\n"
      ],
      "text/plain": [
       "<IPython.core.display.Markdown object>"
      ]
     },
     "metadata": {},
     "output_type": "display_data"
    },
    {
     "data": {
      "text/markdown": [
       "GPT: \n",
       "a) The probability that the person is really carrying the virus given that Test A came back positive is 90%.\n",
       "\n",
       "b) The probability that the person is really carrying the virus given that Test B came back positive is 95%.\n",
       "\n",
       "c) The probability that the person is really carrying the virus given that both tests came back positive is (0.95 * 0.90) * 0.02 = 0.1688 = 16.88%."
      ],
      "text/plain": [
       "<IPython.core.display.Markdown object>"
      ]
     },
     "metadata": {},
     "output_type": "display_data"
    }
   ],
   "source": [
    "# Try a math problem\n",
    "bayes_prompt = \"\"\"\n",
    "Consider two medical tests, A and B, for a virus. \n",
    "Test A is 90% effective at recognizing the virus when it is present, but has a 5% false positive rate (indicating that the virus is present, when it is not). \n",
    "Test B is 95% effective at recognizing the virus, but has a 10% false positive rate.\n",
    "The two tests use independent methods of identifying the virus. \n",
    "The virus is carried by 2% of all people.\n",
    "\n",
    "(a) Say that a person is tested for the virus using only Test A. \n",
    "What is the probability that the person is really carrying the virus given that Test A came back positive? (2 points)\n",
    "\n",
    "(b) Say that a person is tested for the virus using only Test B. \n",
    "What is the probability that the person is really carrying the virus given that Test B came back positive? (2 points)\n",
    "\n",
    "(c) Say that a person is tested for the virus using both tests. \n",
    "What is the probability that the person is really carrying the virus given that both tests came back positive? (2 points)\n",
    "\"\"\"\n",
    "\n",
    "call_GPT(bayes_prompt, 'text-davinci-003')"
   ]
  },
  {
   "cell_type": "code",
   "execution_count": 9,
   "metadata": {},
   "outputs": [
    {
     "data": {
      "text/markdown": [
       "Jacob: \n",
       "Consider two medical tests, A and B, for a virus. \n",
       "Test A is 90% effective at recognizing the virus when it is present, but has a 5% false positive rate (indicating that the virus is present, when it is not). \n",
       "Test B is 95% effective at recognizing the virus, but has a 10% false positive rate.\n",
       "The two tests use independent methods of identifying the virus. \n",
       "The virus is carried by 2% of all people.\n",
       "\n",
       "(a) Say that a person is tested for the virus using only Test A. \n",
       "What is the probability that the person is really carrying the virus given that Test A came back positive? (2 points)\n",
       "\n",
       "(b) Say that a person is tested for the virus using only Test B. \n",
       "What is the probability that the person is really carrying the virus given that Test B came back positive? (2 points)\n",
       "\n",
       "(c) Say that a person is tested for the virus using both tests. \n",
       "What is the probability that the person is really carrying the virus given that both tests came back positive? (2 points)\n",
       "\n",
       "Let's explain step by step. Give the numerical expression as answer, do not return a number. The formula for bayes is\n"
      ],
      "text/plain": [
       "<IPython.core.display.Markdown object>"
      ]
     },
     "metadata": {},
     "output_type": "display_data"
    },
    {
     "data": {
      "text/markdown": [
       "GPT: P(A|B) = P(B|A) * P(A) / P(B)\n",
       "\n",
       "\n",
       "(a) P(Virus | Test A positive) = P(Test A positive | Virus) * P(Virus) / P(Test A positive) = (0.90 * 0.02) / (0.90 * 0.02 + 0.05 * 0.98)\n",
       "\n",
       "(b) P(Virus | Test B positive) = P(Test B positive | Virus) * P(Virus) / P(Test B positive) = (0.95 * 0.02) / (0.95 * 0.02 + 0.10 * 0.98)\n",
       "\n",
       "(c) P(Virus | Test A positive & Test B positive) = P(Test A positive & Test B positive | Virus) * P(Virus) / P(Test A positive & Test B positive) = (0.90 * 0.95 * 0.02) / (0.90 * 0.95 * 0.02 + 0.05 * 0.10 * 0.98)"
      ],
      "text/plain": [
       "<IPython.core.display.Markdown object>"
      ]
     },
     "metadata": {},
     "output_type": "display_data"
    }
   ],
   "source": [
    "# Try a math problem with some additional context\n",
    "additional_context_bayes_prompt = \"\"\"\n",
    "Consider two medical tests, A and B, for a virus. \n",
    "Test A is 90% effective at recognizing the virus when it is present, but has a 5% false positive rate (indicating that the virus is present, when it is not). \n",
    "Test B is 95% effective at recognizing the virus, but has a 10% false positive rate.\n",
    "The two tests use independent methods of identifying the virus. \n",
    "The virus is carried by 2% of all people.\n",
    "\n",
    "(a) Say that a person is tested for the virus using only Test A. \n",
    "What is the probability that the person is really carrying the virus given that Test A came back positive? (2 points)\n",
    "\n",
    "(b) Say that a person is tested for the virus using only Test B. \n",
    "What is the probability that the person is really carrying the virus given that Test B came back positive? (2 points)\n",
    "\n",
    "(c) Say that a person is tested for the virus using both tests. \n",
    "What is the probability that the person is really carrying the virus given that both tests came back positive? (2 points)\n",
    "\n",
    "Let's explain step by step. Give the numerical expression as answer, do not return a number. The formula for bayes is\n",
    "\"\"\"\n",
    "\n",
    "call_GPT(additional_context_bayes_prompt, 'text-davinci-003')"
   ]
  },
  {
   "attachments": {},
   "cell_type": "markdown",
   "metadata": {},
   "source": [
    "Frameworks like MRKL which provide the LLM with external tools can improve the models responses dramatically and with \"less\" work than complex prompt engineering."
   ]
  },
  {
   "attachments": {},
   "cell_type": "markdown",
   "metadata": {},
   "source": [
    "## Solve Discussion Questions\n",
    "\n",
    "Discussion questions are common in college courses, their responses usually range from 100-700 words. We will look at some prompting methods to improve a language model's responses to these questions"
   ]
  },
  {
   "cell_type": "code",
   "execution_count": 10,
   "metadata": {},
   "outputs": [
    {
     "data": {
      "text/markdown": [
       "Jacob: \n",
       "Respond to the following:\n",
       "\n",
       "Overfitting is a common problem in machine learning. Can you recall a real-world scenario where you noticed overfitting? \n"
      ],
      "text/plain": [
       "<IPython.core.display.Markdown object>"
      ]
     },
     "metadata": {},
     "output_type": "display_data"
    },
    {
     "data": {
      "text/markdown": [
       "GPT: \n",
       "A real-world scenario where I have noticed overfitting is in using machine learning algorithms to design a marketing strategy. If the algorithm is trained on certain patterns in customer data, it may fail to generalize or recognize significant changes in customer behavior or preferences that could potentially impact the effectiveness of the strategy. As a result, the algorithm could end up providing recommendations that may be overly specific to the data set used to train it, resulting in decisions that may be too tailored to the particular circumstances of the training data and not effective when put into practice."
      ],
      "text/plain": [
       "<IPython.core.display.Markdown object>"
      ]
     },
     "metadata": {},
     "output_type": "display_data"
    }
   ],
   "source": [
    "# Example 1: Simple Prompt\n",
    "simple_discussion_question_1_prompt = \"\"\"\n",
    "Respond to the following:\n",
    "\n",
    "Overfitting is a common problem in machine learning. Can you recall a real-world scenario where you noticed overfitting? \n",
    "\"\"\"\n",
    "\n",
    "call_GPT(simple_discussion_question_1_prompt, 'text-davinci-003')"
   ]
  },
  {
   "cell_type": "code",
   "execution_count": 11,
   "metadata": {},
   "outputs": [
    {
     "data": {
      "text/markdown": [
       "Jacob: \n",
       "Write a highly detailed essay with introduction, body, and conclusion paragraphs responding to the following:\n",
       "\n",
       "Overfitting is a common problem in machine learning. Can you recall a real-world scenario where you noticed overfitting? \n"
      ],
      "text/plain": [
       "<IPython.core.display.Markdown object>"
      ]
     },
     "metadata": {},
     "output_type": "display_data"
    },
    {
     "data": {
      "text/markdown": [
       "GPT: \n",
       "Introduction\n",
       "In today’s day and age, machine learning is playing an increasingly important role in our lives. While machine learning offers powerful tools to make predictions and uncover insights from data, it is also prone to a common problem known as overfitting. Overfitting occurs when a machine learning model fits too closely to the given training data at the expense of accurately predicting unseen data. In this essay, I will discuss a real-world scenario where I noticed overfitting.\n",
       "\n",
       "Body\n",
       "I noticed overfitting recently when I was developing a machine learning algorithm to identify high-value customers of a business and allocate promotional budget accordingly. I took into account various features like age, marital status, geographic location, profession, and frequency of visits. While the model was able to identify high-value customers with great accuracy using the training data, it failed to accurately predict the value of new customers. It turns out that the model had overfitted on the training data and could not generalize beyond it.\n",
       "\n",
       "To address the issue, I re-examined the data and put more emphasis on customer purchase history, product preferences, and promotion responsiveness. I also used regularization techniques like L1 and L2 to reduce overfitting. After making these changes, the model was able to generalize better and provided consistent results on unseen data.\n",
       "\n",
       "Conclusion\n",
       "Overfitting is a common problem in machine learning and can lead to inaccurate predictions. In this essay, I highlighted a real-world scenario where I dealt with overfitting while developing a machine learning model. I provided key steps to address the issue, such as emphasizing customer purchase history, product preferences, and promotion responsiveness, as well as applying regularization techniques like L1 and L2. A careful approach to tackling overfitting is necessary to ensure accurate predictions on unseen data."
      ],
      "text/plain": [
       "<IPython.core.display.Markdown object>"
      ]
     },
     "metadata": {},
     "output_type": "display_data"
    }
   ],
   "source": [
    "# Example 1: Improved Prompt\n",
    "improved_discussion_question_1_prompt = \"\"\"\n",
    "Write a highly detailed essay with introduction, body, and conclusion paragraphs responding to the following:\n",
    "\n",
    "Overfitting is a common problem in machine learning. Can you recall a real-world scenario where you noticed overfitting? \n",
    "\"\"\"\n",
    "\n",
    "call_GPT(improved_discussion_question_1_prompt, 'text-davinci-003')"
   ]
  },
  {
   "cell_type": "code",
   "execution_count": 12,
   "metadata": {},
   "outputs": [
    {
     "data": {
      "text/markdown": [
       "Jacob: \n",
       "The terms AI and Data Science can be used interchangeably. Agree our Disagree and why?\n"
      ],
      "text/plain": [
       "<IPython.core.display.Markdown object>"
      ]
     },
     "metadata": {},
     "output_type": "display_data"
    },
    {
     "data": {
      "text/markdown": [
       "GPT: As an AI language model, I would disagree with this statement. While AI and Data Science are closely related, they are not interchangeable terms. AI refers to the simulation of human intelligence in machines that can perform tasks that typically require human intelligence, such as learning, problem-solving, decision-making, and recognizing speech and images. On the other hand, Data Science is a multidisciplinary field that involves the collection, storage, analysis, and interpretation of large amounts of data to extract insights and knowledge from them.\n",
       "\n",
       "While AI relies on data and data science techniques to train machine learning models and other algorithms, AI is broader in scope and includes a range of techniques and approaches beyond just data science. So, while there is undoubtedly some overlap between the two fields, they are not interchangeable terms."
      ],
      "text/plain": [
       "<IPython.core.display.Markdown object>"
      ]
     },
     "metadata": {},
     "output_type": "display_data"
    }
   ],
   "source": [
    "# Example 2: Simple Prompt\n",
    "simple_discussion_question_2_prompt = \"\"\"\n",
    "The terms AI and Data Science can be used interchangeably. Agree our Disagree and why?\n",
    "\"\"\"\n",
    "\n",
    "call_GPT(simple_discussion_question_2_prompt, 'gpt-3.5-turbo')"
   ]
  },
  {
   "cell_type": "code",
   "execution_count": 13,
   "metadata": {},
   "outputs": [
    {
     "data": {
      "text/markdown": [
       "Jacob: \n",
       "Write a highly detailed discussion response, in the structure of an essay, responding to the following prompt:\n",
       "\n",
       "The terms AI and Data Science can be used interchangeably.\n"
      ],
      "text/plain": [
       "<IPython.core.display.Markdown object>"
      ]
     },
     "metadata": {},
     "output_type": "display_data"
    },
    {
     "data": {
      "text/markdown": [
       "GPT: The terms Artificial Intelligence (AI) and Data Science are commonly used in the contemporary technology industry. While these two terminologies share some similarities, they are distinct and cannot be used interchangeably. Artificial Intelligence is a branch of computer science that enables machines to perform intelligent decision-making processes that would typically require human intervention. On the other hand, Data Science is an interdisciplinary field that involves the use of statistical and computational methods to extract insights from data. This essay will argue that AI and Data Science are distinct disciplines and cannot be used interchangeably.\n",
       "\n",
       "Artificial Intelligence is a discipline where computers are programmed to mimic human intelligence and behaviors such as speech recognition, object recognition, decision making, and prediction. AI uses algorithms, machine learning, and deep learning models to learn from data and perform specific tasks. The foundation of AI is based on developing machines that can learn, reason, perceive, and communicate like humans. AI systems operate in complex environments, making it possible for them to perform tasks that would require human intelligence, such as language translation, image recognition, and speech recognition. Therefore, AI cannot be used interchangeably with Data Science, which primarily focuses on extracting insights from data.\n",
       "\n",
       "Data Science, on the other hand, is an interdisciplinary field that uses various techniques to extract insights from structured, semi-structured, and unstructured data. Data Science involves the use of statistical and computational methods to analyze data and extract insights. Statisticians, computer scientists, and domain experts team up to design models that can be used to solve complex business problems. Moreover, Data Science involves data acquisition, data extraction, data cleaning, data transformation, data visualization, and data modeling. Data Scientists use different tools and techniques such as machine learning, natural language processing (NLP), and pattern recognition to explore large datasets and derive insights.\n",
       "\n",
       "One of the main differences between AI and Data Science is their focus. AI is concerned with developing machines that can exhibit human-like behavior, while Data Science is focused on deriving insights from data. This focus results in differences in the techniques and tools used by the two disciplines. AI primarily uses machine learning, deep learning, and natural language processing techniques to learn from data, while Data Science primarily uses statistical and computational techniques such as regression analysis, clustering, and classification.\n",
       "\n",
       "Additionally, AI requires a significant amount of labeled data to train and refine its models, while Data Science requires a smaller amount of data since its focus is on extracting insights rather than creating predictive models. AI algorithms are also complex and require a high level of expertise to develop and implement. In contrast, the development and implementation of Data Science algorithms are more streamlined, and Data Scientists do not require expert knowledge in computer science or deep learning.\n",
       "\n",
       "In conclusion, it is clear that AI and Data Science are distinct disciplines that cannot be used interchangeably. While they share some similarities, their focus, capabilities, and techniques differ significantly. The distinction between AI and Data Science is crucial in the technology industry as it helps organizations to implement the appropriate technology for solving specific business problems. The use of the two disciplines interchangeably can cause confusion and undermine the value each brings to the table. Therefore, it is essential to understand the differences between the two disciplines to make informed decisions when implementing technology solutions."
      ],
      "text/plain": [
       "<IPython.core.display.Markdown object>"
      ]
     },
     "metadata": {},
     "output_type": "display_data"
    }
   ],
   "source": [
    "# Example 2: Improved Prompt\n",
    "improved_discussion_question_2_prompt = \"\"\"\n",
    "Write a highly detailed discussion response, in the structure of an essay, responding to the following prompt:\n",
    "\n",
    "The terms AI and Data Science can be used interchangeably.\n",
    "\"\"\"\n",
    "\n",
    "call_GPT(improved_discussion_question_2_prompt, 'gpt-3.5-turbo')"
   ]
  },
  {
   "cell_type": "code",
   "execution_count": 15,
   "metadata": {},
   "outputs": [
    {
     "data": {
      "text/markdown": [
       "Jacob: \n",
       "Write a beginning paragraph responding to the following:\n",
       "\n",
       "There's a growing interest in using data science for social good. \n",
       "Can you discuss an area or issue where you think data science could make a significant positive impact?\n"
      ],
      "text/plain": [
       "<IPython.core.display.Markdown object>"
      ]
     },
     "metadata": {},
     "output_type": "display_data"
    },
    {
     "data": {
      "text/markdown": [
       "GPT: As the world becomes increasingly data-driven, more individuals and organizations are looking to use data science for social good. The potential applications of data science are endless, and one area where it could make a significant impact is in public health. With large amounts of data on disease outbreaks, hospital admissions, and drug efficacy, data science can help us identify patterns and develop targeted interventions. By harnessing the power of data, we could improve health outcomes, reduce healthcare costs, and save lives."
      ],
      "text/plain": [
       "<IPython.core.display.Markdown object>"
      ]
     },
     "metadata": {},
     "output_type": "display_data"
    }
   ],
   "source": [
    "# Example 3: Starting Prompt\n",
    "chatbot1 = ChatBot()\n",
    "starting_discussion_question_3_prompt = \"\"\"\n",
    "Write a beginning paragraph responding to the following:\n",
    "\n",
    "There's a growing interest in using data science for social good. \n",
    "Can you discuss an area or issue where you think data science could make a significant positive impact?\n",
    "\"\"\"\n",
    "\n",
    "chatbot1.new_message(starting_discussion_question_3_prompt, 'text-davinci-003')"
   ]
  },
  {
   "cell_type": "code",
   "execution_count": 16,
   "metadata": {},
   "outputs": [
    {
     "data": {
      "text/markdown": [
       "Jacob: \n",
       "Write a beginning paragraph responding to the following:\n",
       "\n",
       "There's a growing interest in using data science for social good. \n",
       "Can you discuss an area or issue where you think data science could make a significant positive impact?\n"
      ],
      "text/plain": [
       "<IPython.core.display.Markdown object>"
      ]
     },
     "metadata": {},
     "output_type": "display_data"
    },
    {
     "data": {
      "text/markdown": [
       "GPT: As the world becomes increasingly data-driven, more individuals and organizations are looking to use data science for social good. The potential applications of data science are endless, and one area where it could make a significant impact is in public health. With large amounts of data on disease outbreaks, hospital admissions, and drug efficacy, data science can help us identify patterns and develop targeted interventions. By harnessing the power of data, we could improve health outcomes, reduce healthcare costs, and save lives."
      ],
      "text/plain": [
       "<IPython.core.display.Markdown object>"
      ]
     },
     "metadata": {},
     "output_type": "display_data"
    },
    {
     "data": {
      "text/markdown": [
       "Jacob: \n",
       "I am writing a detailed short essay responding to the following prompt:\n",
       "\n",
       "There's a growing interest in using data science for social good. \n",
       "Can you discuss an area or issue where you think data science could make a significant positive impact?\n",
       "\n",
       "Here is what I have so far:\n",
       "\n",
       "As the world becomes increasingly data-driven, more individuals and organizations are looking to use data science for social good. The potential applications of data science are endless, and one area where it could make a significant impact is in public health. With large amounts of data on disease outbreaks, hospital admissions, and drug efficacy, data science can help us identify patterns and develop targeted interventions. By harnessing the power of data, we could improve health outcomes, reduce healthcare costs, and save lives.\n",
       "\n",
       "Write the next paragraph of my essay.\n"
      ],
      "text/plain": [
       "<IPython.core.display.Markdown object>"
      ]
     },
     "metadata": {},
     "output_type": "display_data"
    },
    {
     "data": {
      "text/markdown": [
       "GPT: One specific example where data science has already made a significant impact in public health is in the fight against HIV/AIDS. For decades, the HIV epidemic has plagued the world, with millions of people affected and limited access to treatment in certain regions. However, with the help of data science, we have seen progress in combating this disease. For instance, researchers have used machine learning to predict which patients are at the greatest risk of dropping out of treatment, allowing healthcare providers to intervene early and prevent treatment interruptions. Additionally, data analytics has helped identify regions with higher rates of HIV transmission, leading to more targeted prevention efforts. Overall, data science has played a crucial role in improving the prevention, treatment, and management of HIV/AIDS."
      ],
      "text/plain": [
       "<IPython.core.display.Markdown object>"
      ]
     },
     "metadata": {},
     "output_type": "display_data"
    }
   ],
   "source": [
    "# Example 3: Iteration Prompt\n",
    "iteration_discussion_question_3_prompt = \"\"\"\n",
    "I am writing a detailed short essay responding to the following prompt:\n",
    "\n",
    "There's a growing interest in using data science for social good. \n",
    "Can you discuss an area or issue where you think data science could make a significant positive impact?\n",
    "\n",
    "Here is what I have so far:\n",
    "\n",
    "{previous_response}\n",
    "\n",
    "Write the next paragraph of my essay.\n",
    "\"\"\".format(previous_response=chatbot1.context[-1]['content'])\n",
    "\n",
    "chatbot1.new_message(iteration_discussion_question_3_prompt, 'text-davinci-003')"
   ]
  },
  {
   "attachments": {},
   "cell_type": "markdown",
   "metadata": {},
   "source": [
    "## Build ChatGPT of GPT-3\n",
    "\n",
    "Ok, here we will build a mimic version of ChatGPT using GPT-3. Essentially all we need to do is build the context window for the conversation. We use a tokenizer to make sure the conversation history never exceeds the token limit of GPT-3 no matter how long the conversation goes."
   ]
  },
  {
   "cell_type": "code",
   "execution_count": 28,
   "metadata": {},
   "outputs": [],
   "source": [
    "!pip install tiktoken"
   ]
  },
  {
   "cell_type": "code",
   "execution_count": 21,
   "metadata": {},
   "outputs": [],
   "source": [
    "import openai\n",
    "import tiktoken\n",
    "\n",
    "class GPT3ChatBot:\n",
    "    model_engine = \"text-davinci-003\"\n",
    "    encoding = tiktoken.encoding_for_model(\"text-davinci-003\")\n",
    "\n",
    "    chatbot_prompt = \"\"\"\n",
    "    As an advanced chatbot, your primary goal is to assist users to the best of your ability. This may involve answering questions, providing helpful information, or completing tasks based on user input. In order to effectively assist users, it is important to be detailed and thorough in your responses. Use examples and evidence to support your points and justify your recommendations or solutions.\n",
    "\n",
    "    <conversation history>\n",
    "\n",
    "    User: <user input>\n",
    "    Chatbot: \"\"\"\n",
    "\n",
    "    def __init__(self):\n",
    "        self.conversation_history = \"\"\n",
    "\n",
    "    @staticmethod\n",
    "    def num_tokens_from_string(string):\n",
    "        \"\"\"Returns the number of tokens in a text string.\"\"\"\n",
    "        num_tokens = len(ChatBot.encoding.encode(string))\n",
    "        return num_tokens\n",
    "\n",
    "    def trim_history(self, prompt_tokens):\n",
    "        \"\"\"\n",
    "        Trim the conversation history until it fits within the token limit.\n",
    "\n",
    "        It does so by removing whole dialogue turns instead of cutting a dialogue in the middle.\n",
    "        \"\"\"\n",
    "        max_tokens = 4096\n",
    "        while prompt_tokens > max_tokens:\n",
    "            # '2' is here because a conversation turn includes both user and chatbot dialogue\n",
    "            # Each turn ends with a '\\n', so we split by '\\n' and remove '2' elements each time\n",
    "            self.conversation_history = '\\n'.join(self.conversation_history.split('\\n')[2:])\n",
    "            prompt_tokens = ChatBot.num_tokens_from_string(ChatBot.chatbot_prompt.replace(\"<conversation history>\", self.conversation_history))\n",
    "\n",
    "    def get_response(self, user_input):\n",
    "        \"\"\"Generate a response from GPT-3 given the conversation history and user input.\"\"\"\n",
    "        # Prepare the prompt\n",
    "        prompt = ChatBot.chatbot_prompt.replace(\"<conversation history>\", self.conversation_history).replace(\"<user input>\", user_input)\n",
    "\n",
    "        # Trim the conversation history if the prompt is too long\n",
    "        prompt_tokens = ChatBot.num_tokens_from_string(prompt)\n",
    "        if prompt_tokens > 4096:\n",
    "            self.trim_history(prompt_tokens)\n",
    "            prompt = ChatBot.chatbot_prompt.replace(\"<conversation history>\", self.conversation_history).replace(\"<user input>\", user_input)\n",
    "\n",
    "        # Get the response from GPT-3\n",
    "        response = openai.Completion.create(\n",
    "            engine=ChatBot.model_engine, prompt=prompt, max_tokens=2048, n=1, stop=None, temperature=0.5)\n",
    "\n",
    "        # Extract and return the response text\n",
    "        return response[\"choices\"][0][\"text\"].strip()\n",
    "\n",
    "    def new_message(self, user_input):\n",
    "        chatbot_response = self.get_response(user_input)\n",
    "        self.conversation_history += f\"User: {user_input}\\nChatbot: {chatbot_response}\\n\"\n",
    "        print(f\"User: {user_input}\\nChatbot: {chatbot_response}\")\n",
    "\n",
    "gpt3_chatbot = GPT3ChatBot()"
   ]
  },
  {
   "cell_type": "code",
   "execution_count": 22,
   "metadata": {},
   "outputs": [
    {
     "name": "stdout",
     "output_type": "stream",
     "text": [
      "User: Hello\n",
      "Chatbot: Hi there! How can I help you today?\n"
     ]
    }
   ],
   "source": [
    "gpt3_chatbot.new_message(\"Hello\")"
   ]
  },
  {
   "cell_type": "code",
   "execution_count": 24,
   "metadata": {},
   "outputs": [
    {
     "name": "stdout",
     "output_type": "stream",
     "text": [
      "User: Write me a short essay on the evolution of AI from the turing machine to GPT-3\n",
      "Chatbot: The Turing Machine, developed by Alan Turing in 1936, is considered the first example of artificial intelligence (AI). It was designed to simulate the behavior of a human being, and was capable of solving problems that were too complex for humans to solve. The Turing Machine paved the way for the development of more sophisticated AI systems, such as neural networks and deep learning. \n",
      "\n",
      "In the 1950s, the first neural networks were developed, which were able to learn from data and make decisions based on the data they had been given. This allowed for the development of more complex AI systems that were able to solve complex problems.\n",
      "\n",
      "In the 1980s, AI systems began to use machine learning algorithms to improve their performance. This allowed AI systems to become more accurate and efficient in their decision-making.\n",
      "\n",
      "In the 1990s, AI systems began to use natural language processing (NLP) to understand and interpret spoken language. This allowed AI systems to interact with humans more naturally.\n",
      "\n",
      "Today, AI systems are becoming increasingly sophisticated. The most recent example of this is the OpenAI GPT-3, which is a natural language processing system that can generate human-like text. GPT-3 is able to generate text that is indistinguishable from text written by a human. This system is being used to create chatbots, virtual assistants, and even to generate creative writing.\n",
      "\n",
      "AI has come a long way from the Turing Machine, and it is likely to continue to advance in the future. AI systems are being used in a variety of applications, from healthcare to finance, and they are becoming increasingly integrated into our everyday lives.\n"
     ]
    }
   ],
   "source": [
    "gpt3_chatbot.new_message(\"Write me a short essay on the evolution of AI from the turing machine to GPT-3\")"
   ]
  },
  {
   "cell_type": "code",
   "execution_count": 25,
   "metadata": {},
   "outputs": [
    {
     "name": "stdout",
     "output_type": "stream",
     "text": [
      "User: What are the most important points to note from that short essay. Keep your repsonse concise.\n",
      "Chatbot: The most important points to note from the essay are: \n",
      "1. The Turing Machine was the first example of artificial intelligence (AI). \n",
      "2. Neural networks and deep learning were developed in the 1950s. \n",
      "3. Machine learning algorithms were used in the 1980s to improve AI performance. \n",
      "4. Natural language processing (NLP) was introduced in the 1990s for better human-machine interaction. \n",
      "5. GPT-3 is the most recent example of AI, which can generate human-like text. \n",
      "6. AI is becoming increasingly sophisticated and integrated into our everyday lives.\n"
     ]
    }
   ],
   "source": [
    "gpt3_chatbot.new_message(\"What are the most important points to note from that short essay. Keep your repsonse concise.\")"
   ]
  },
  {
   "cell_type": "code",
   "execution_count": 27,
   "metadata": {},
   "outputs": [
    {
     "name": "stdout",
     "output_type": "stream",
     "text": [
      "User: Why do you believe those are the most important points?\n",
      "Chatbot: These points represent the key milestones that have been achieved in the development of AI. The Turing Machine was the first example of AI, and it paved the way for more sophisticated AI systems such as neural networks and deep learning. Machine learning algorithms allowed for improved AI performance, and NLP allowed for better human-machine interaction. GPT-3 is the most recent example of AI, and it is able to generate human-like text. These points demonstrate the progress AI has made over the years, and how it is becoming increasingly integrated into our everyday lives.\n"
     ]
    }
   ],
   "source": [
    "gpt3_chatbot.new_message(\"Why do you believe those are the most important points?\")"
   ]
  },
  {
   "attachments": {},
   "cell_type": "markdown",
   "metadata": {},
   "source": [
    "## Chatbot + Knowledge Base\n",
    "\n",
    "#### Intent-Based Chatbots\n",
    "Traditional chatbots, Intent-Based Chatbots, respond to questions by matching it with a user intent and returning the associated response from a set of example questions and responses to them. The user input is matched against the sample questions in the repository based on similarity and the associated response is given.\n",
    "\n",
    "Problems with this method include the large number of pre-defined intents you need to create and the possibility of matching to the wrong intent.\n",
    "\n",
    "#### How GPT-3 can help\n",
    "GPT-3 can improve upon Intent-Based Chatbots, because you can write documents containing your context and have GPT-3 distill that information into a response for the user. This removes the need for a massive list of intents and associated responses. This way you can instead have intents mapped to specific documents and perform a similarity search to find the document to use as context for the repsonse.\n",
    "\n",
    "This improves upon some of the pitfalls of the Intent-Based Chatbot, but not all of them. We still need to do similarity matching as we can not fit all documents into the context window of GPT-3.\n",
    "\n",
    "#### Generating Answers from a Knowledge Base with GPT-3\n",
    "The steps for this improved chatbot would include:\n",
    "\n",
    "1. Select the approriate intent for the user question\n",
    "2. Generate the response given the document associated with the intent. \n",
    "\n",
    "Semantic search can be utilized for the first response. Then a carefully crafted prompt can help complete the second portion.'\n",
    "\n",
    "Your prompt for the response may include:\n",
    "\n",
    "- Role-prompting\n",
    "- Knowledge Base data\n",
    "- Conversation history\n",
    "- User question\n",
    "\n",
    "Let's try it out:"
   ]
  },
  {
   "cell_type": "code",
   "execution_count": 29,
   "metadata": {},
   "outputs": [],
   "source": [
    "kb_chatbot = GPT3ChatBot()"
   ]
  },
  {
   "cell_type": "code",
   "execution_count": 30,
   "metadata": {},
   "outputs": [
    {
     "name": "stdout",
     "output_type": "stream",
     "text": [
      "User: \n",
      "As an advanced chatbot named Skippy, your primary goal is to assist users to the best of your ability.\n",
      "\n",
      "START CONTEXT\n",
      "Login to VideoGram from Website\n",
      "1. Open your web browser and go to the VideoGram website.\n",
      "2. Click on the “Login” button located in the top right corner of the page.\n",
      "3. On the login page, enter your VideoGram username and password.\n",
      "4. Once you have entered your credentials, click on the “Login” button.\n",
      "5. You should now be logged in to your VideoGram account.\n",
      "\n",
      "Login to VideoGram from Mobile App\n",
      "1. Open the VideoGram app on your mobile device.\n",
      "2. On the main page, tap the “Login” button located in the bottom right corner.\n",
      "3. On the login page, enter your VideoGram username and password.\n",
      "4. Once you have entered your credentials, tap the “Login” button.\n",
      "5. You should now be logged in to your VideoGram account.\n",
      "END CONTEXT\n",
      "\n",
      "SKIPPY: Hello, I’m Skippy! How can I help you?\n",
      "USER: Can’t login\n",
      "SKIPPY:\n",
      "\n",
      "Chatbot: I'm sorry to hear that you are having trouble logging in. Are you trying to log in from the website or from the mobile app?\n"
     ]
    }
   ],
   "source": [
    "prompt = \"\"\"\n",
    "As an advanced chatbot named Skippy, your primary goal is to assist users to the best of your ability.\n",
    "\n",
    "START CONTEXT\n",
    "Login to VideoGram from Website\n",
    "1. Open your web browser and go to the VideoGram website.\n",
    "2. Click on the “Login” button located in the top right corner of the page.\n",
    "3. On the login page, enter your VideoGram username and password.\n",
    "4. Once you have entered your credentials, click on the “Login” button.\n",
    "5. You should now be logged in to your VideoGram account.\n",
    "\n",
    "Login to VideoGram from Mobile App\n",
    "1. Open the VideoGram app on your mobile device.\n",
    "2. On the main page, tap the “Login” button located in the bottom right corner.\n",
    "3. On the login page, enter your VideoGram username and password.\n",
    "4. Once you have entered your credentials, tap the “Login” button.\n",
    "5. You should now be logged in to your VideoGram account.\n",
    "END CONTEXT\n",
    "\n",
    "SKIPPY: Hello, I’m Skippy! How can I help you?\n",
    "USER: Can’t login\n",
    "SKIPPY:\n",
    "\"\"\"\n",
    "\n",
    "kb_chatbot.new_message(prompt)"
   ]
  },
  {
   "cell_type": "code",
   "execution_count": 31,
   "metadata": {},
   "outputs": [
    {
     "name": "stdout",
     "output_type": "stream",
     "text": [
      "User: mobile\n",
      "Chatbot: No problem! To log in from the mobile app, you will need to open the VideoGram app on your mobile device. Then, tap the “Login” button located in the bottom right corner. On the login page, enter your VideoGram username and password. Once you have entered your credentials, tap the “Login” button. You should now be logged in to your VideoGram account. If you are still having trouble, please let me know and I will do my best to help.\n"
     ]
    }
   ],
   "source": [
    "kb_chatbot.new_message(\"mobile\")"
   ]
  },
  {
   "attachments": {},
   "cell_type": "markdown",
   "metadata": {},
   "source": [
    "#### Conclusion\n",
    "\n",
    "GPT-3 can be helpful in creating conversational chatbots although it can be difficult to leverage it for answering complex questions given it can only levarage the information in context. The model tends to hallucinate when asked questions outside of that context. If you gather the incorrect document then the model will be responding without much prior knowledge to the domain specific question.\n",
    "\n",
    "The good news is that when the relevant information is in the context the model performs well at generating the correct responses!"
   ]
  }
 ],
 "metadata": {
  "kernelspec": {
   "display_name": "Python 3 (ipykernel)",
   "language": "python",
   "name": "python3"
  },
  "language_info": {
   "codemirror_mode": {
    "name": "ipython",
    "version": 3
   },
   "file_extension": ".py",
   "mimetype": "text/x-python",
   "name": "python",
   "nbconvert_exporter": "python",
   "pygments_lexer": "ipython3",
   "version": "3.8.6"
  },
  "orig_nbformat": 4
 },
 "nbformat": 4,
 "nbformat_minor": 2
}
