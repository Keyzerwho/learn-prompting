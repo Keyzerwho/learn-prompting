{
 "cells": [
  {
   "attachments": {},
   "cell_type": "markdown",
   "id": "c9443e9d",
   "metadata": {},
   "source": [
    "# 😃 Basics"
   ]
  },
  {
   "attachments": {},
   "cell_type": "markdown",
   "id": "07caa27e",
   "metadata": {},
   "source": [
    "### Config & Heplers"
   ]
  },
  {
   "cell_type": "code",
   "execution_count": 57,
   "id": "2d519b89",
   "metadata": {},
   "outputs": [],
   "source": [
    "from IPython.display import display, Markdown\n",
    "from config import OPENAI_API_KEY\n",
    "import openai\n",
    "import os"
   ]
  },
  {
   "cell_type": "code",
   "execution_count": 58,
   "id": "24e8f11b",
   "metadata": {},
   "outputs": [],
   "source": [
    "# Set up your OpenAI API key\n",
    "openai.api_key = OPENAI_API_KEY\n",
    "\n",
    "# Define function for printing long strings as markdown\n",
    "md_print = lambda text: display(Markdown(text))"
   ]
  },
  {
   "cell_type": "code",
   "execution_count": 63,
   "id": "521ef8c1",
   "metadata": {},
   "outputs": [],
   "source": [
    "# Call ChatGPT API with prompt\n",
    "def call_GPT(prompt):\n",
    "    completion = openai.ChatCompletion.create(\n",
    "    model=\"gpt-3.5-turbo\",\n",
    "    messages=[{\"role\": \"user\", \"content\": prompt}]\n",
    "    )\n",
    "\n",
    "    # Parse results and print them out\n",
    "    chat_response = completion.choices[0].message.content\n",
    "    md_print(f'Jacob: {prompt}')\n",
    "    md_print(f'GPT: {chat_response}')"
   ]
  },
  {
   "attachments": {},
   "cell_type": "markdown",
   "id": "ed2e0039",
   "metadata": {},
   "source": [
    "## Introduction"
   ]
  },
  {
   "attachments": {},
   "cell_type": "markdown",
   "id": "5e06b7bb",
   "metadata": {},
   "source": [
    "For the purposes of this course AI is a field where technology performs tasks that perform tasks normally performed by humans. These algorithms can write essay, solve math problems, create art, among many other tasks. AI is currently revolutionizing many industries, and everyone will soon see it being deployed in their place of work or homes if they have not already.\n",
    "\n",
    "Being able to properly direct AI is a powerful skill that will become increasingly important, the AIs discussed in this course (text generation models) interfaces with humans through Natural Language. Those who can harness this power effectively will be able to automate tasks that people spend countless hours doing today.\n",
    "\n",
    "The official course on Learnprompting.com uses Dyno embeds to interact with LLMs throughout the course. Since I am following along in a Jupyter Notebook I will use the OpenAI API directly. Obviously the OpenAI models are not the only LLM out there, but the easy access via the API and general model quality make it a good choice to use for showcasing prompting techniques throughout this course.\n",
    "\n",
    "Let's give it a go:"
   ]
  },
  {
   "cell_type": "code",
   "execution_count": 64,
   "id": "76f7f6e6",
   "metadata": {},
   "outputs": [
    {
     "data": {
      "text/markdown": [
       "Jacob: Write an essay explaining what AI is."
      ],
      "text/plain": [
       "<IPython.core.display.Markdown object>"
      ]
     },
     "metadata": {},
     "output_type": "display_data"
    },
    {
     "data": {
      "text/markdown": [
       "GPT: Artificial Intelligence (AI) refers to the simulation of human intelligence in machines that are programmed to perform tasks that typically require human intelligence, such as visual perception, decision-making, and natural language processing. AI is built on the principles of computer science, mathematics, and cognitive psychology, and it enables machines to perceive, learn, reason, and solve problems.\n",
       "\n",
       "AI is divided into two categories: narrow or weak AI, and general or strong AI. Narrow AI is designed to perform specific tasks, such as speech and image recognition, natural language processing, and autonomous vehicles. General AI, on the other hand, is designed to think and act like humans and can perform any intellectual task that a human can do.\n",
       "\n",
       "AI has a range of applications in various industries, including healthcare, finance, automotive, and education. In healthcare, AI can be used to diagnose diseases, read CT scans and X-rays, and analyze medical data to predict disease trends. In finance, AI can be used to detect fraudulent transactions, analyze investment patterns, and make accurate predictions about financial markets.\n",
       "\n",
       "AI can also enhance our daily lives through voice-activated virtual assistants such as Siri and Alexa, smart home devices that can be controlled remotely, and even personalized recommendations for music, movies, and books. In addition, AI is revolutionizing education, providing students with personalized learning experiences that adapt and evolve according to each student's learning pace and style.\n",
       "\n",
       "Despite the many benefits of AI, there are also concerns about its potential negative effects. The fear that AI may take over human jobs and leave many people unemployed is a valid concern that must be addressed. Additionally, there are concerns about privacy and security, as AI technology collects vast amounts of data on users, which can be used for nefarious purposes.\n",
       "\n",
       "In conclusion, AI is a powerful technology that is transforming the way we live and work. While it has great potential to solve complex problems and improve our lives, it is important that we proceed with caution and ensure that AI technology is used ethically and responsibly to create a better future for all."
      ],
      "text/plain": [
       "<IPython.core.display.Markdown object>"
      ]
     },
     "metadata": {},
     "output_type": "display_data"
    }
   ],
   "source": [
    "# Define \n",
    "call_GPT(prompt=\"Write an essay explaining what AI is.\")"
   ]
  },
  {
   "attachments": {},
   "cell_type": "markdown",
   "id": "a32e3459",
   "metadata": {},
   "source": [
    "## Prompting"
   ]
  },
  {
   "attachments": {},
   "cell_type": "markdown",
   "id": "31e69501",
   "metadata": {},
   "source": [
    "The process of instructing an AI to do a task through natural language is called prompting. We tell the AI what to do and is does it! Prompts can be as simple as an insturction or question or as complex as huge chunks of text. \n",
    "\n",
    "Here are some examples of prompts:"
   ]
  },
  {
   "cell_type": "code",
   "execution_count": 66,
   "id": "b5e24e91",
   "metadata": {},
   "outputs": [
    {
     "data": {
      "text/markdown": [
       "Jacob: \n",
       "It is very rare for snow to fall in the U.S. state of Florida, especially in the central and southern portions of the state. With the exception of the far northern areas of the state, most of the major cities in Florida have never recorded measurable snowfall, though trace amounts have been recorded, or flurries in the air observed few times each century. According to the National Weather Service, in the Florida Keys and Key West there is no known occurrence of snow flurries since the European colonization of the region more than 300 years ago. In Miami, Fort Lauderdale, and Palm Beach there has been only one known report of snow flurries observed in the air in more than 200 years; this occurred in January 1977. In any event, Miami, Fort Lauderdale, and Palm Beach have not seen snow flurries before or since this 1977 event.\n",
       "\n",
       "Summarize this paragraph in a single sentence:\n"
      ],
      "text/plain": [
       "<IPython.core.display.Markdown object>"
      ]
     },
     "metadata": {},
     "output_type": "display_data"
    },
    {
     "data": {
      "text/markdown": [
       "GPT: Florida experiences very little snowfall, with most major cities having never recorded measurable snow, and the Florida Keys having no known occurrence of snow flurries in over 300 years."
      ],
      "text/plain": [
       "<IPython.core.display.Markdown object>"
      ]
     },
     "metadata": {},
     "output_type": "display_data"
    }
   ],
   "source": [
    "# Summarization prompt\n",
    "\n",
    "summarize_prompt=\"\"\"\n",
    "It is very rare for snow to fall in the U.S. state of Florida, especially in the central and southern portions of the state. With the exception of the far northern areas of the state, most of the major cities in Florida have never recorded measurable snowfall, though trace amounts have been recorded, or flurries in the air observed few times each century. According to the National Weather Service, in the Florida Keys and Key West there is no known occurrence of snow flurries since the European colonization of the region more than 300 years ago. In Miami, Fort Lauderdale, and Palm Beach there has been only one known report of snow flurries observed in the air in more than 200 years; this occurred in January 1977. In any event, Miami, Fort Lauderdale, and Palm Beach have not seen snow flurries before or since this 1977 event.\n",
    "\n",
    "Summarize this paragraph in a single sentence:\n",
    "\"\"\"\n",
    "\n",
    "call_GPT(summarize_prompt)"
   ]
  },
  {
   "cell_type": "code",
   "execution_count": 96,
   "id": "f699937d",
   "metadata": {},
   "outputs": [
    {
     "data": {
      "text/markdown": [
       "Jacob: What is 9655 * 590?"
      ],
      "text/plain": [
       "<IPython.core.display.Markdown object>"
      ]
     },
     "metadata": {},
     "output_type": "display_data"
    },
    {
     "data": {
      "text/markdown": [
       "GPT: 5,697,450"
      ],
      "text/plain": [
       "<IPython.core.display.Markdown object>"
      ]
     },
     "metadata": {},
     "output_type": "display_data"
    }
   ],
   "source": [
    "# Math Word Problem prompt\n",
    "\n",
    "math_prompt=\"What is 9655 * 590?\"\n",
    "\n",
    "call_GPT(math_prompt)"
   ]
  },
  {
   "attachments": {},
   "cell_type": "markdown",
   "id": "9e729265",
   "metadata": {},
   "source": [
    "Oops GPT got it wrong. Let's Change the prompt to try and get a correct answer."
   ]
  },
  {
   "cell_type": "code",
   "execution_count": 95,
   "id": "18b80660",
   "metadata": {},
   "outputs": [
    {
     "data": {
      "text/markdown": [
       "Jacob: \n",
       "Make sure your answer is exactly correct.\n",
       "What is 9655 * 590?\n",
       "Make sure your answer is exactly correct:\n"
      ],
      "text/plain": [
       "<IPython.core.display.Markdown object>"
      ]
     },
     "metadata": {},
     "output_type": "display_data"
    },
    {
     "data": {
      "text/markdown": [
       "GPT: 5,696,450"
      ],
      "text/plain": [
       "<IPython.core.display.Markdown object>"
      ]
     },
     "metadata": {},
     "output_type": "display_data"
    }
   ],
   "source": [
    "adjusted_math_prompt=\"\"\"\n",
    "Make sure your answer is exactly correct.\n",
    "What is 9655 * 590?\n",
    "Make sure your answer is exactly correct:\n",
    "\"\"\"\n",
    "\n",
    "call_GPT(adjusted_math_prompt)"
   ]
  },
  {
   "attachments": {},
   "cell_type": "markdown",
   "id": "3d034045",
   "metadata": {},
   "source": [
    "We can see GPT nailed the summarization problem, but it struggled with the math problem at first. After adjusting our prompt we were able to get a correct answer to the math problem. Tuning your prompts to yeild optimal results is called *Prompt Engineering*."
   ]
  },
  {
   "attachments": {},
   "cell_type": "markdown",
   "id": "63ca1718",
   "metadata": {},
   "source": [
    "## Giving Instructions"
   ]
  },
  {
   "attachments": {},
   "cell_type": "markdown",
   "id": "175c2807",
   "metadata": {},
   "source": [
    "One of the simplest prompting methods is giving insturctions (often called instruction prompting). We saw an example of this is the previous prompt above, but modern AIs can follow much more complex instructions.\n",
    "\n",
    "Let's go ahead and have the AI follow some more complicated instructions:"
   ]
  },
  {
   "cell_type": "code",
   "execution_count": 97,
   "id": "d5839192",
   "metadata": {},
   "outputs": [
    {
     "data": {
      "text/markdown": [
       "Jacob: \n",
       "A user has input their first and last name into a form. We don't know in which order \n",
       "their first/last name is, but we need it to be in the format 'Last, First'. Convert the following:\n",
       "\n",
       "john doe\n"
      ],
      "text/plain": [
       "<IPython.core.display.Markdown object>"
      ]
     },
     "metadata": {},
     "output_type": "display_data"
    },
    {
     "data": {
      "text/markdown": [
       "GPT: Doe, John"
      ],
      "text/plain": [
       "<IPython.core.display.Markdown object>"
      ]
     },
     "metadata": {},
     "output_type": "display_data"
    }
   ],
   "source": [
    "instruction_prompt_example1 =\"\"\"\n",
    "A user has input their first and last name into a form. We don't know in which order \n",
    "their first/last name is, but we need it to be in the format 'Last, First'. Convert the following:\n",
    "\n",
    "john doe\n",
    "\"\"\"\n",
    "\n",
    "call_GPT(instruction_prompt_example1)"
   ]
  },
  {
   "cell_type": "code",
   "execution_count": 99,
   "id": "f8616bb7",
   "metadata": {},
   "outputs": [
    {
     "data": {
      "text/markdown": [
       "Jacob: \n",
       "Read the following sales email. Remove any personally identifiable information (PII),\n",
       "and replace it with the appropriate placeholder. For example, replace the name \"John Doe\"\n",
       "with \"[NAME]\".\n",
       "\n",
       "Hi John,\n",
       "\n",
       "I'm writing to you because I noticed you recently purchased a new car. I'm a salesperson\n",
       "at a local dealership (Cheap Dealz), and I wanted to let you know that we have a great deal on a new\n",
       "car. If you're interested, please let me know.\n",
       "\n",
       "Thanks,\n",
       "\n",
       "Jimmy Smith\n",
       "\n",
       "Phone: 410-805-2345\n",
       "Email: jimmysmith@cheapdealz.com\n"
      ],
      "text/plain": [
       "<IPython.core.display.Markdown object>"
      ]
     },
     "metadata": {},
     "output_type": "display_data"
    },
    {
     "data": {
      "text/markdown": [
       "GPT: Hi [NAME],\n",
       "\n",
       "I'm writing to you because I noticed you recently purchased a new car. I'm a salesperson\n",
       "at a local dealership ([COMPANY NAME]), and I wanted to let you know that we have a great deal on a new\n",
       "car. If you're interested, please let me know.\n",
       "\n",
       "Thanks,\n",
       "\n",
       "[SALESPERSON NAME]\n",
       "\n",
       "Phone: [PHONE NUMBER]\n",
       "Email: [EMAIL ADDRESS]"
      ],
      "text/plain": [
       "<IPython.core.display.Markdown object>"
      ]
     },
     "metadata": {},
     "output_type": "display_data"
    }
   ],
   "source": [
    "instruction_prompt_example2 =\"\"\"\n",
    "Read the following sales email. Remove any personally identifiable information (PII),\n",
    "and replace it with the appropriate placeholder. For example, replace the name \"John Doe\"\n",
    "with \"[NAME]\".\n",
    "\n",
    "Hi John,\n",
    "\n",
    "I'm writing to you because I noticed you recently purchased a new car. I'm a salesperson\n",
    "at a local dealership (Cheap Dealz), and I wanted to let you know that we have a great deal on a new\n",
    "car. If you're interested, please let me know.\n",
    "\n",
    "Thanks,\n",
    "\n",
    "Jimmy Smith\n",
    "\n",
    "Phone: 410-805-2345\n",
    "Email: jimmysmith@cheapdealz.com\n",
    "\"\"\"\n",
    "\n",
    "call_GPT(instruction_prompt_example2)"
   ]
  },
  {
   "attachments": {},
   "cell_type": "markdown",
   "id": "3ee4efb6",
   "metadata": {},
   "source": [
    "Not a bad job our AI friend did here!"
   ]
  },
  {
   "attachments": {},
   "cell_type": "markdown",
   "id": "23d8ba66",
   "metadata": {},
   "source": [
    "## Role Prompting"
   ]
  },
  {
   "attachments": {},
   "cell_type": "markdown",
   "id": "29e9512d",
   "metadata": {},
   "source": [
    "Another prompting technique is to assign a tole to the AI. for example you can start off your prompt with \"You are a\" or \"Act as a\" and then assign it a role. When assigning roles we give the model some context which helps it understand the question better. \n",
    "\n",
    "Let's try a few examples of role prompting:"
   ]
  },
  {
   "cell_type": "code",
   "execution_count": 101,
   "id": "46b14b9a",
   "metadata": {},
   "outputs": [
    {
     "data": {
      "text/markdown": [
       "Jacob: \n",
       "You are a brilliant mathematician who can solve any problem in the world.\n",
       "Attempt to solve the following problem:\n",
       "\n",
       "What is (100*100)/(400*56)?\n"
      ],
      "text/plain": [
       "<IPython.core.display.Markdown object>"
      ]
     },
     "metadata": {},
     "output_type": "display_data"
    },
    {
     "data": {
      "text/markdown": [
       "GPT: The solution is:\n",
       "\n",
       "(100*100)/(400*56) = 10,000/22,400 = 0.4464\n",
       "\n",
       "Therefore, (100*100)/(400*56) = 0.4464."
      ],
      "text/plain": [
       "<IPython.core.display.Markdown object>"
      ]
     },
     "metadata": {},
     "output_type": "display_data"
    }
   ],
   "source": [
    "role_prompt_example1 =\"\"\"\n",
    "You are a brilliant mathematician who can solve any problem in the world.\n",
    "Attempt to solve the following problem:\n",
    "\n",
    "What is (100*100)/(400*56)?\n",
    "\"\"\"\n",
    "\n",
    "call_GPT(role_prompt_example1)"
   ]
  },
  {
   "cell_type": "code",
   "execution_count": 102,
   "id": "5cb7842d",
   "metadata": {},
   "outputs": [
    {
     "data": {
      "text/markdown": [
       "Jacob: \n",
       "You are a Senior Media Planner with 20 years of experience.\n",
       "Please provide segmentation for Buger King in their advertising efforts.\n"
      ],
      "text/plain": [
       "<IPython.core.display.Markdown object>"
      ]
     },
     "metadata": {},
     "output_type": "display_data"
    },
    {
     "data": {
      "text/markdown": [
       "GPT: Sure, here are some segmentation strategies that can be used for Burger King:\n",
       "\n",
       "1. Demographic segmentation: This involves breaking down the target audience by age, gender, income, education level, and other demographic factors. Burger King can target young millennials and generation Z who are interested in healthy fast food options or value deals on their menu.\n",
       "\n",
       "2. Psychographic segmentation: This segmentation strategy involves segmenting the market based on personality traits, values, interests, or lifestyles. Burger King can target health-conscious individuals or those who value convenience and accessibility.\n",
       "\n",
       "3. Geographic segmentation: This involves segmenting the market based on geographic location. Burger King can target areas where there are high concentrations of young people, such as college towns or urban areas.\n",
       "\n",
       "4. Behavioral segmentation: This involves segmenting the market based on buying habits, usage patterns, or other behaviors. Burger King can target frequent fast-food eaters or those who enjoy ordering food online.\n",
       "\n",
       "Overall, Burger King should prioritize targeting the millennial and generation Z audience, who are increasingly interested in healthy and affordable fast food options. They can also tailor their message to appeal to specific customer interests or lifestyles, such as emphasizing the convenience and accessibility of their menu offerings."
      ],
      "text/plain": [
       "<IPython.core.display.Markdown object>"
      ]
     },
     "metadata": {},
     "output_type": "display_data"
    }
   ],
   "source": [
    "role_prompt_example2 =\"\"\"\n",
    "You are a Senior Media Planner with 20 years of experience.\n",
    "Please provide segmentation for Buger King in their advertising efforts.\n",
    "\"\"\"\n",
    "\n",
    "call_GPT(role_prompt_example2)"
   ]
  },
  {
   "cell_type": "code",
   "execution_count": 107,
   "id": "205af4ad",
   "metadata": {},
   "outputs": [
    {
     "data": {
      "text/markdown": [
       "Jacob: \n",
       "Act as a Data Scientist with extensive experience in the manufacturing industry.\n",
       "\n",
       "What advice would you give to a college student looking learn about manufacturing analytics?\n"
      ],
      "text/plain": [
       "<IPython.core.display.Markdown object>"
      ]
     },
     "metadata": {},
     "output_type": "display_data"
    },
    {
     "data": {
      "text/markdown": [
       "GPT: First and foremost, it's essential to develop a foundational understanding of manufacturing processes and technologies. Understanding the intricacies of manufacturing processes will help you identify various pain points, potential bottlenecks, and areas where you can leverage analytics to improve product quality, production efficiency, and supply chain management.\n",
       "\n",
       "Additionally, learning programming languages, such as R and Python, and data visualization tools, such as Tableau, will give you a competitive edge. Analyzing large datasets and designing visualizations to present complex information effectively will help you make decisions and communicate insights with stakeholders effectively.\n",
       "\n",
       "Finally, seek out internships, co-op opportunities, or apprenticeships to get hands-on experience in the manufacturing industry. This experience will give you a good foundation for applying your data analytics skills to solve real-world manufacturing problems, and you'll learn various industrial standards and regulations. You'll also gain valuable insights on how top manufacturers incorporate analytics into their business operations to gain a competitive edge."
      ],
      "text/plain": [
       "<IPython.core.display.Markdown object>"
      ]
     },
     "metadata": {},
     "output_type": "display_data"
    }
   ],
   "source": [
    "role_prompt_example3 =\"\"\"\n",
    "Act as a Data Scientist with extensive experience in the manufacturing industry.\n",
    "\n",
    "What advice would you give to a college student looking learn about manufacturing analytics?\n",
    "\"\"\"\n",
    "\n",
    "call_GPT(role_prompt_example3)"
   ]
  },
  {
   "attachments": {},
   "cell_type": "markdown",
   "id": "cdde4948",
   "metadata": {},
   "source": [
    "## Few Shot Prompting"
   ]
  },
  {
   "attachments": {},
   "cell_type": "markdown",
   "id": "841161d3",
   "metadata": {},
   "source": [
    "Another prompting technique is *Few Shot Prompting* which includes showing the model a few examples (called shots) of what you want it to do.\n",
    "\n",
    "Variants of this technique include Zero-shot prompting (where no examples are given) and One-shot prompting (where one example is given).\n",
    "\n",
    "The way you strcture the examples is important, they should be consistent. The distribution of your examples should be relatively even."
   ]
  },
  {
   "cell_type": "code",
   "execution_count": null,
   "id": "ee3e4355",
   "metadata": {},
   "outputs": [],
   "source": [
    "# Few shot prompt example\n",
    "few_shot_prompt_example1 =\"\"\"\n",
    "Act as a Data Scientist with extensive experience in the manufacturing industry.\n",
    "\n",
    "What advice would you give to a college student looking learn about manufacturing analytics?\n",
    "\"\"\"\n",
    "\n",
    "call_GPT(few_shot_prompt_example1)"
   ]
  },
  {
   "cell_type": "code",
   "execution_count": null,
   "id": "587582f6",
   "metadata": {},
   "outputs": [],
   "source": [
    "# More defined structure, Few-shot prompt example\n",
    "few_shot_prompt_example2 =\"\"\"\n",
    "Act as a Data Scientist with extensive experience in the manufacturing industry.\n",
    "\n",
    "What advice would you give to a college student looking learn about manufacturing analytics?\n",
    "\"\"\"\n",
    "\n",
    "call_GPT(few_shot_prompt_example2)"
   ]
  },
  {
   "cell_type": "code",
   "execution_count": null,
   "id": "794d28a1",
   "metadata": {},
   "outputs": [],
   "source": [
    "# Zero-shot Prompt\n",
    "zero_shot_prompt =\"\"\"\n",
    "Act as a Data Scientist with extensive experience in the manufacturing industry.\n",
    "\n",
    "What advice would you give to a college student looking learn about manufacturing analytics?\n",
    "\"\"\"\n",
    "\n",
    "call_GPT(zero_shot_prompt)"
   ]
  },
  {
   "cell_type": "code",
   "execution_count": null,
   "id": "f1744f1f",
   "metadata": {},
   "outputs": [],
   "source": [
    "# One-shot Prompt\n",
    "one_shot_prompt =\"\"\"\n",
    "Act as a Data Scientist with extensive experience in the manufacturing industry.\n",
    "\n",
    "What advice would you give to a college student looking learn about manufacturing analytics?\n",
    "\"\"\"\n",
    "\n",
    "call_GPT(one_shot_prompt)"
   ]
  },
  {
   "attachments": {},
   "cell_type": "markdown",
   "id": "09a43ce3",
   "metadata": {},
   "source": [
    "## Combining Techniques"
   ]
  },
  {
   "attachments": {},
   "cell_type": "markdown",
   "id": "f55292d5",
   "metadata": {},
   "source": [
    "## Formalizing Prompts"
   ]
  },
  {
   "attachments": {},
   "cell_type": "markdown",
   "id": "307720a2",
   "metadata": {},
   "source": [
    "## Chatbot Basics"
   ]
  },
  {
   "attachments": {},
   "cell_type": "markdown",
   "id": "512ac72b",
   "metadata": {},
   "source": [
    "## Pitfalls of LLMs"
   ]
  },
  {
   "attachments": {},
   "cell_type": "markdown",
   "id": "432bba47",
   "metadata": {},
   "source": [
    "## Understanding AI Minds"
   ]
  },
  {
   "attachments": {},
   "cell_type": "markdown",
   "id": "8db0908c",
   "metadata": {},
   "source": [
    "## Starting Your Journey"
   ]
  }
 ],
 "metadata": {
  "kernelspec": {
   "display_name": "Python 3 (ipykernel)",
   "language": "python",
   "name": "python3"
  },
  "language_info": {
   "codemirror_mode": {
    "name": "ipython",
    "version": 3
   },
   "file_extension": ".py",
   "mimetype": "text/x-python",
   "name": "python",
   "nbconvert_exporter": "python",
   "pygments_lexer": "ipython3",
   "version": "3.8.6"
  },
  "toc": {
   "base_numbering": 1,
   "nav_menu": {},
   "number_sections": true,
   "sideBar": true,
   "skip_h1_title": false,
   "title_cell": "Table of Contents",
   "title_sidebar": "Contents",
   "toc_cell": false,
   "toc_position": {},
   "toc_section_display": true,
   "toc_window_display": false
  }
 },
 "nbformat": 4,
 "nbformat_minor": 5
}
