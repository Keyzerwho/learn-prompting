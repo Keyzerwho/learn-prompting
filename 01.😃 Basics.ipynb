{
 "cells": [
  {
   "attachments": {},
   "cell_type": "markdown",
   "id": "c9443e9d",
   "metadata": {},
   "source": [
    "# 😃 Basics"
   ]
  },
  {
   "attachments": {},
   "cell_type": "markdown",
   "id": "07caa27e",
   "metadata": {},
   "source": [
    "### Config & Heplers"
   ]
  },
  {
   "cell_type": "code",
   "execution_count": 4,
   "id": "2d519b89",
   "metadata": {},
   "outputs": [],
   "source": [
    "from IPython.display import display, Markdown\n",
    "from config import OPENAI_API_KEY\n",
    "import openai\n",
    "import os"
   ]
  },
  {
   "cell_type": "code",
   "execution_count": 5,
   "id": "24e8f11b",
   "metadata": {},
   "outputs": [],
   "source": [
    "# Set up your OpenAI API key\n",
    "openai.api_key = OPENAI_API_KEY\n",
    "\n",
    "# Define function for printing long strings as markdown\n",
    "md_print = lambda text: display(Markdown(text))"
   ]
  },
  {
   "attachments": {},
   "cell_type": "markdown",
   "id": "ed2e0039",
   "metadata": {},
   "source": [
    "## Introduction"
   ]
  },
  {
   "attachments": {},
   "cell_type": "markdown",
   "id": "5e06b7bb",
   "metadata": {},
   "source": [
    "For the purposes of this course AI is a field where technology performs tasks that perform tasks normally performed by humans. These algorithms can write essay, solve math problems, create art, among many other tasks. AI is currently revolutionizing many industries, and everyone will soon see it being deployed in their place of work or homes if they have not already.\n",
    "\n",
    "Being able to properly direct AI is a powerful skill that will become increasingly important, the AIs discussed in this course (text generation models) interfaces with humans through Natural Language. Those who can harness this power effectively will be able to automate tasks that people spend countless hours doing today.\n",
    "\n",
    "The official course on Learnprompting.com uses Dyno embeds to interact with LLMs throughout the course. Since I am following along in a Jupyter Notebook I will use the OpenAI API directly. Obviously the OpenAI models are not the only LLM out there, but the easy access via the API and general model quality make it a good choice to use for showcasing prompting techniques throughout this course.\n",
    "\n",
    "First let's create a function for creating text via prompts using the OpenAI API:"
   ]
  },
  {
   "cell_type": "code",
   "execution_count": 6,
   "id": "521ef8c1",
   "metadata": {},
   "outputs": [],
   "source": [
    "# Call ChatGPT API with prompt\n",
    "def call_GPT(prompt):\n",
    "    completion = openai.ChatCompletion.create(\n",
    "    model=\"gpt-3.5-turbo\",\n",
    "    messages=[{\"role\": \"user\", \"content\": prompt}]\n",
    "    )\n",
    "\n",
    "    # Parse results and print them out\n",
    "    chat_response = completion.choices[0].message.content\n",
    "    md_print(f'Jacob: {prompt}')\n",
    "    md_print(f'GPT: {chat_response}')"
   ]
  },
  {
   "attachments": {},
   "cell_type": "markdown",
   "id": "1d20251f",
   "metadata": {},
   "source": [
    "Let's give it a go:"
   ]
  },
  {
   "cell_type": "code",
   "execution_count": 7,
   "id": "76f7f6e6",
   "metadata": {},
   "outputs": [
    {
     "data": {
      "text/markdown": [
       "Jacob: Write an essay explaining what AI is."
      ],
      "text/plain": [
       "<IPython.core.display.Markdown object>"
      ]
     },
     "metadata": {},
     "output_type": "display_data"
    },
    {
     "data": {
      "text/markdown": [
       "GPT: Artificial Intelligence, commonly abbreviated as AI, refers to the development of computer systems capable of performing tasks that would typically require human intelligence to accomplish. AI is a rapidly growing field of technology that has the potential to revolutionize almost every aspect of our lives.\n",
       "\n",
       "In its most basic form, AI can be thought of as the ability of a computer system to think, learn and make decisions much like a human being does. This is achieved through the creation of algorithms, analytical systems, and machine learning models that are designed to identify patterns and trends in data and use that information to make informed decisions.\n",
       "\n",
       "One important aspect of AI technology is machine learning, which is a process whereby computer algorithms improve their performance on a specific task by processing large amounts of data. These algorithms are designed to recognize patterns in data and use that knowledge to make complex decisions.\n",
       "\n",
       "Today, AI technology has a wide range of practical applications. For example, AI-powered voice assistants such as Siri and Alexa have become common features of smartphones and smart homes, while AI-powered chatbots are transforming customer service by providing instant support to customers 24/7. Other uses of AI include fraud detection, image and speech recognition, and personalized advertising.\n",
       "\n",
       "Despite the many benefits of AI, concerns have been raised about its potential to replace human workers in certain industries. However, it's worth noting that AI technology is still in its infancy, and its long-term effects are yet to be fully understood. One thing is certain - AI has the potential to transform the way we live and work in ways that we can only begin to imagine.\n",
       "\n",
       "In conclusion, AI is a complex and rapidly advancing technology that has the potential to revolutionize the world as we know it. By combining data analysis with machine learning, AI systems can learn and make decisions as if they were human, with applications ranging from chatbots to fraud detection. While there are concerns about the impact of AI on the future of work, its many benefits make it an exciting technology to watch into the future."
      ],
      "text/plain": [
       "<IPython.core.display.Markdown object>"
      ]
     },
     "metadata": {},
     "output_type": "display_data"
    }
   ],
   "source": [
    "# Define \n",
    "call_GPT(prompt=\"Write an essay explaining what AI is.\")"
   ]
  },
  {
   "attachments": {},
   "cell_type": "markdown",
   "id": "a32e3459",
   "metadata": {},
   "source": [
    "## Prompting"
   ]
  },
  {
   "attachments": {},
   "cell_type": "markdown",
   "id": "31e69501",
   "metadata": {},
   "source": [
    "The process of instructing an AI to do a task through natural language is called prompting. We tell the AI what to do and is does it! Prompts can be as simple as an insturction or question or as complex as huge chunks of text. \n",
    "\n",
    "Here are some examples of prompts:"
   ]
  },
  {
   "cell_type": "code",
   "execution_count": 8,
   "id": "b5e24e91",
   "metadata": {},
   "outputs": [
    {
     "data": {
      "text/markdown": [
       "Jacob: \n",
       "It is very rare for snow to fall in the U.S. state of Florida, especially in the central and southern portions of the state. With the exception of the far northern areas of the state, most of the major cities in Florida have never recorded measurable snowfall, though trace amounts have been recorded, or flurries in the air observed few times each century. According to the National Weather Service, in the Florida Keys and Key West there is no known occurrence of snow flurries since the European colonization of the region more than 300 years ago. In Miami, Fort Lauderdale, and Palm Beach there has been only one known report of snow flurries observed in the air in more than 200 years; this occurred in January 1977. In any event, Miami, Fort Lauderdale, and Palm Beach have not seen snow flurries before or since this 1977 event.\n",
       "\n",
       "Summarize this paragraph in a single sentence:\n"
      ],
      "text/plain": [
       "<IPython.core.display.Markdown object>"
      ]
     },
     "metadata": {},
     "output_type": "display_data"
    },
    {
     "data": {
      "text/markdown": [
       "GPT: Snow is very rare in Florida, with only trace amounts or flurries seen in some areas every few centuries, and most major cities in the state having never recorded measurable snowfall."
      ],
      "text/plain": [
       "<IPython.core.display.Markdown object>"
      ]
     },
     "metadata": {},
     "output_type": "display_data"
    }
   ],
   "source": [
    "# Summarization prompt\n",
    "\n",
    "summarize_prompt=\"\"\"\n",
    "It is very rare for snow to fall in the U.S. state of Florida, especially in the central and southern portions of the state. With the exception of the far northern areas of the state, most of the major cities in Florida have never recorded measurable snowfall, though trace amounts have been recorded, or flurries in the air observed few times each century. According to the National Weather Service, in the Florida Keys and Key West there is no known occurrence of snow flurries since the European colonization of the region more than 300 years ago. In Miami, Fort Lauderdale, and Palm Beach there has been only one known report of snow flurries observed in the air in more than 200 years; this occurred in January 1977. In any event, Miami, Fort Lauderdale, and Palm Beach have not seen snow flurries before or since this 1977 event.\n",
    "\n",
    "Summarize this paragraph in a single sentence:\n",
    "\"\"\"\n",
    "\n",
    "call_GPT(summarize_prompt)"
   ]
  },
  {
   "cell_type": "code",
   "execution_count": 26,
   "id": "f699937d",
   "metadata": {},
   "outputs": [
    {
     "data": {
      "text/markdown": [
       "Jacob: What is 9655 * 590?"
      ],
      "text/plain": [
       "<IPython.core.display.Markdown object>"
      ]
     },
     "metadata": {},
     "output_type": "display_data"
    },
    {
     "data": {
      "text/markdown": [
       "GPT: There are different ways to perform this multiplication, but one possible method is:\n",
       "\n",
       "     9655\n",
       "    × 590\n",
       "    -----\n",
       "    57930   (5 times 9655)\n",
       "   96550    (9 times 9655, with a 0 added)\n",
       "467300     (5 times 9655, with two 0's added)\n",
       "+-------- \n",
       "5704755\n",
       "\n",
       "Therefore, 9655 * 590 = 5704755."
      ],
      "text/plain": [
       "<IPython.core.display.Markdown object>"
      ]
     },
     "metadata": {},
     "output_type": "display_data"
    }
   ],
   "source": [
    "# Math Word Problem prompt\n",
    "\n",
    "math_prompt=\"What is 9655 * 590?\"\n",
    "\n",
    "call_GPT(math_prompt)"
   ]
  },
  {
   "attachments": {},
   "cell_type": "markdown",
   "id": "9e729265",
   "metadata": {},
   "source": [
    "Oops GPT got it wrong. Let's Change the prompt to try and get a correct answer."
   ]
  },
  {
   "cell_type": "code",
   "execution_count": 28,
   "id": "18b80660",
   "metadata": {},
   "outputs": [
    {
     "data": {
      "text/markdown": [
       "Jacob: \n",
       "Make sure your answer is exactly correct.\n",
       "What is 9655 * 590?\n",
       "Make sure your answer is exactly correct:\n"
      ],
      "text/plain": [
       "<IPython.core.display.Markdown object>"
      ]
     },
     "metadata": {},
     "output_type": "display_data"
    },
    {
     "data": {
      "text/markdown": [
       "GPT: 5,696,950"
      ],
      "text/plain": [
       "<IPython.core.display.Markdown object>"
      ]
     },
     "metadata": {},
     "output_type": "display_data"
    }
   ],
   "source": [
    "adjusted_math_prompt=\"\"\"\n",
    "Make sure your answer is exactly correct.\n",
    "What is 9655 * 590?\n",
    "Make sure your answer is exactly correct:\n",
    "\"\"\"\n",
    "\n",
    "call_GPT(adjusted_math_prompt)"
   ]
  },
  {
   "attachments": {},
   "cell_type": "markdown",
   "id": "3d034045",
   "metadata": {},
   "source": [
    "We can see GPT nailed the summarization problem, but it struggled with the math problem at first. After adjusting our prompt we were able to get a correct answer to the math problem. Tuning your prompts to yeild optimal results is called *Prompt Engineering*."
   ]
  },
  {
   "attachments": {},
   "cell_type": "markdown",
   "id": "63ca1718",
   "metadata": {},
   "source": [
    "## Giving Instructions"
   ]
  },
  {
   "attachments": {},
   "cell_type": "markdown",
   "id": "175c2807",
   "metadata": {},
   "source": [
    "One of the simplest prompting methods is giving insturctions (often called instruction prompting). We saw an example of this is the previous prompt above, but modern AIs can follow much more complex instructions.\n",
    "\n",
    "Let's go ahead and have the AI follow some more complicated instructions:"
   ]
  },
  {
   "cell_type": "code",
   "execution_count": 29,
   "id": "d5839192",
   "metadata": {},
   "outputs": [
    {
     "data": {
      "text/markdown": [
       "Jacob: \n",
       "A user has input their first and last name into a form. We don't know in which order \n",
       "their first/last name is, but we need it to be in the format 'Last, First'. Convert the following:\n",
       "\n",
       "john doe\n"
      ],
      "text/plain": [
       "<IPython.core.display.Markdown object>"
      ]
     },
     "metadata": {},
     "output_type": "display_data"
    },
    {
     "data": {
      "text/markdown": [
       "GPT: Doe, John"
      ],
      "text/plain": [
       "<IPython.core.display.Markdown object>"
      ]
     },
     "metadata": {},
     "output_type": "display_data"
    }
   ],
   "source": [
    "instruction_prompt_example1 =\"\"\"\n",
    "A user has input their first and last name into a form. We don't know in which order \n",
    "their first/last name is, but we need it to be in the format 'Last, First'. Convert the following:\n",
    "\n",
    "john doe\n",
    "\"\"\"\n",
    "\n",
    "call_GPT(instruction_prompt_example1)"
   ]
  },
  {
   "cell_type": "code",
   "execution_count": 30,
   "id": "f8616bb7",
   "metadata": {},
   "outputs": [
    {
     "data": {
      "text/markdown": [
       "Jacob: \n",
       "Read the following sales email. Remove any personally identifiable information (PII),\n",
       "and replace it with the appropriate placeholder. For example, replace the name \"John Doe\"\n",
       "with \"[NAME]\".\n",
       "\n",
       "Hi John,\n",
       "\n",
       "I'm writing to you because I noticed you recently purchased a new car. I'm a salesperson\n",
       "at a local dealership (Cheap Dealz), and I wanted to let you know that we have a great deal on a new\n",
       "car. If you're interested, please let me know.\n",
       "\n",
       "Thanks,\n",
       "\n",
       "Jimmy Smith\n",
       "\n",
       "Phone: 410-805-2345\n",
       "Email: jimmysmith@cheapdealz.com\n"
      ],
      "text/plain": [
       "<IPython.core.display.Markdown object>"
      ]
     },
     "metadata": {},
     "output_type": "display_data"
    },
    {
     "data": {
      "text/markdown": [
       "GPT: Hi [NAME],\n",
       "\n",
       "I'm writing to you because I noticed you recently purchased a new car. I'm a salesperson at a local dealership (Cheap Dealz), and I wanted to let you know that we have a great deal on a new car. If you're interested, please let me know.\n",
       "\n",
       "Thanks,\n",
       "\n",
       "Jimmy Smith\n",
       "\n",
       "Phone: 410-805-2345\n",
       "Email: jimmysmith@cheapdealz.com"
      ],
      "text/plain": [
       "<IPython.core.display.Markdown object>"
      ]
     },
     "metadata": {},
     "output_type": "display_data"
    }
   ],
   "source": [
    "instruction_prompt_example2 =\"\"\"\n",
    "Read the following sales email. Remove any personally identifiable information (PII),\n",
    "and replace it with the appropriate placeholder. For example, replace the name \"John Doe\"\n",
    "with \"[NAME]\".\n",
    "\n",
    "Hi John,\n",
    "\n",
    "I'm writing to you because I noticed you recently purchased a new car. I'm a salesperson\n",
    "at a local dealership (Cheap Dealz), and I wanted to let you know that we have a great deal on a new\n",
    "car. If you're interested, please let me know.\n",
    "\n",
    "Thanks,\n",
    "\n",
    "Jimmy Smith\n",
    "\n",
    "Phone: 410-805-2345\n",
    "Email: jimmysmith@cheapdealz.com\n",
    "\"\"\"\n",
    "\n",
    "call_GPT(instruction_prompt_example2)"
   ]
  },
  {
   "attachments": {},
   "cell_type": "markdown",
   "id": "3ee4efb6",
   "metadata": {},
   "source": [
    "Not a bad job our AI friend did here!"
   ]
  },
  {
   "attachments": {},
   "cell_type": "markdown",
   "id": "23d8ba66",
   "metadata": {},
   "source": [
    "## Role Prompting"
   ]
  },
  {
   "attachments": {},
   "cell_type": "markdown",
   "id": "29e9512d",
   "metadata": {},
   "source": [
    "Another prompting technique is to assign a tole to the AI. for example you can start off your prompt with \"You are a\" or \"Act as a\" and then assign it a role. When assigning roles we give the model some context which helps it understand the question better. \n",
    "\n",
    "Let's try a few examples of role prompting:"
   ]
  },
  {
   "cell_type": "code",
   "execution_count": 31,
   "id": "46b14b9a",
   "metadata": {},
   "outputs": [
    {
     "data": {
      "text/markdown": [
       "Jacob: \n",
       "You are a brilliant mathematician who can solve any problem in the world.\n",
       "Attempt to solve the following problem:\n",
       "\n",
       "What is (100*100)/(400*56)?\n"
      ],
      "text/plain": [
       "<IPython.core.display.Markdown object>"
      ]
     },
     "metadata": {},
     "output_type": "display_data"
    },
    {
     "data": {
      "text/markdown": [
       "GPT: The solution is:\n",
       "\n",
       "(100*100)/(400*56) = 10000/22400 = 0.4464 or about 44.64%"
      ],
      "text/plain": [
       "<IPython.core.display.Markdown object>"
      ]
     },
     "metadata": {},
     "output_type": "display_data"
    }
   ],
   "source": [
    "role_prompt_example1 =\"\"\"\n",
    "You are a brilliant mathematician who can solve any problem in the world.\n",
    "Attempt to solve the following problem:\n",
    "\n",
    "What is (100*100)/(400*56)?\n",
    "\"\"\"\n",
    "\n",
    "call_GPT(role_prompt_example1)"
   ]
  },
  {
   "cell_type": "code",
   "execution_count": 32,
   "id": "5cb7842d",
   "metadata": {},
   "outputs": [
    {
     "data": {
      "text/markdown": [
       "Jacob: \n",
       "You are a Senior Media Planner with 20 years of experience.\n",
       "Please provide segmentation for Buger King in their advertising efforts.\n"
      ],
      "text/plain": [
       "<IPython.core.display.Markdown object>"
      ]
     },
     "metadata": {},
     "output_type": "display_data"
    },
    {
     "data": {
      "text/markdown": [
       "GPT: Thank you for the opportunity to provide segmentation for Burger King in their advertising efforts. Based on my experience and understanding of the fast food industry, I would recommend the following segmentation approach:\n",
       "\n",
       "1. Demographic Segmentation: Burger King can target different age groups such as young adults (18-34 years), families with kids, and seniors to increase their customer base. Additionally, gender segmentation can help them target more specific marketing efforts towards men and women.\n",
       "\n",
       "2. Geographic Segmentation: Burger King can optimize their marketing efforts by targeting areas with the highest density of their target demographic groups. For example, family-oriented neighborhoods, areas with higher college populations, and locations with high foot traffic and tourist activity could be potential areas for Burger King to focus their advertising efforts on.\n",
       "\n",
       "3. Psychographic Segmentation: In this segment, Burger King targets the customers' interests, personality, and lifestyle. Burger King can segment their audience based on their food habits such as vegan or non-vegetarian customers or low-carb and high-protein customers. They can also target customers who prefer burgers and sandwiches as a quick bite for lunch or dinner.\n",
       "\n",
       "4. Behavioral Segmentation: This segment breaks down the target audience based on their behavioral patterns. Burger King can segment customers based on their frequency of food visits or ordering during breakfast, lunch, or dinner time. Additionally, people ordering online can be categorized based on the mode of delivery and the time of the day.\n",
       "\n",
       "By utilizing a combination of these segmentation strategies, Burger King can effectively target a wider range of customers with advertising efforts catered specifically to their needs and preferences. Thank you for the opportunity to provide this segmentation strategy."
      ],
      "text/plain": [
       "<IPython.core.display.Markdown object>"
      ]
     },
     "metadata": {},
     "output_type": "display_data"
    }
   ],
   "source": [
    "role_prompt_example2 =\"\"\"\n",
    "You are a Senior Media Planner with 20 years of experience.\n",
    "Please provide segmentation for Buger King in their advertising efforts.\n",
    "\"\"\"\n",
    "\n",
    "call_GPT(role_prompt_example2)"
   ]
  },
  {
   "cell_type": "code",
   "execution_count": 33,
   "id": "205af4ad",
   "metadata": {},
   "outputs": [
    {
     "data": {
      "text/markdown": [
       "Jacob: \n",
       "Act as a Data Scientist with extensive experience in the manufacturing industry.\n",
       "\n",
       "What advice would you give to a college student looking learn about manufacturing analytics?\n"
      ],
      "text/plain": [
       "<IPython.core.display.Markdown object>"
      ]
     },
     "metadata": {},
     "output_type": "display_data"
    },
    {
     "data": {
      "text/markdown": [
       "GPT: As a Data Scientist with extensive experience in the manufacturing industry, I would advise a college student looking to learn about manufacturing analytics to take the following steps:\n",
       "\n",
       "1. Understand the basics of manufacturing: Before diving into analytics, it's essential to have a solid understanding of how manufacturing works. This includes things like the different types of manufacturing processes, how supply chains work, and how products get from raw materials to finished goods. Once you have this foundation, it will be easier to understand how data fits into the manufacturing process.\n",
       "\n",
       "2. Learn about the data: Manufacturing generates a lot of data, from production rates to quality control metrics. It's essential to learn about the different types of data that are available and how they can be collected, analyzed, and used to make better manufacturing decisions.\n",
       "\n",
       "3. Develop statistical skills: Manufacturing analytics is all about analyzing data to find patterns and insights. To do this, you need strong statistical skills, including the ability to work with large datasets, create models, and analyze data using statistical software like R or Python.\n",
       "\n",
       "4. Familiarize yourself with industry-specific software: Manufacturing analytics requires specialized software that is designed specifically for the industry. Some popular options include Minitab, SAS, and JMP. It's important to become familiar with these tools and understand how they can be used to analyze manufacturing data.\n",
       "\n",
       "5. Gain hands-on experience: To truly master manufacturing analytics, you need hands-on experience analyzing real-world manufacturing data. Look for internships or co-op opportunities that will allow you to gain practical experience working with manufacturing data and using analytics tools.\n",
       "\n",
       "Overall, the key to learning about manufacturing analytics is to approach it as a combination of both technical and industry-specific knowledge. By gaining a solid foundation in both of these areas, you'll be well-prepared to tackle the complex data challenges of the manufacturing industry."
      ],
      "text/plain": [
       "<IPython.core.display.Markdown object>"
      ]
     },
     "metadata": {},
     "output_type": "display_data"
    }
   ],
   "source": [
    "role_prompt_example3 =\"\"\"\n",
    "Act as a Data Scientist with extensive experience in the manufacturing industry.\n",
    "\n",
    "What advice would you give to a college student looking learn about manufacturing analytics?\n",
    "\"\"\"\n",
    "\n",
    "call_GPT(role_prompt_example3)"
   ]
  },
  {
   "attachments": {},
   "cell_type": "markdown",
   "id": "cdde4948",
   "metadata": {},
   "source": [
    "## Few Shot Prompting"
   ]
  },
  {
   "attachments": {},
   "cell_type": "markdown",
   "id": "841161d3",
   "metadata": {},
   "source": [
    "Another prompting technique is *Few Shot Prompting* which includes showing the model a few examples (called shots) of what you want it to do.\n",
    "\n",
    "Variants of this technique include Zero-shot prompting (where no examples are given) and One-shot prompting (where one example is given).\n",
    "\n",
    "The way you strcture the examples is important, they should be consistent. The distribution of your examples should be relatively even."
   ]
  },
  {
   "cell_type": "code",
   "execution_count": 34,
   "id": "ee3e4355",
   "metadata": {},
   "outputs": [
    {
     "data": {
      "text/markdown": [
       "Jacob: \n",
       "Act as a Data Scientist with extensive experience in the manufacturing industry.\n",
       "\n",
       "What advice would you give to a college student looking learn about manufacturing analytics?\n"
      ],
      "text/plain": [
       "<IPython.core.display.Markdown object>"
      ]
     },
     "metadata": {},
     "output_type": "display_data"
    },
    {
     "data": {
      "text/markdown": [
       "GPT: 1. Focus on your statistics and machine learning knowledge: To effectively analyze manufacturing data, students should have a solid understanding of statistics and machine learning. Courses in these areas will help students learn how to analyze and visualize data, as well as create predictive models.\n",
       "\n",
       "2. Learn about Manufacturing Processes: Understanding the basics of how manufacturing works, the various stages of the process, and how data is generated can help students better understand what kinds of data are available for analysis, and how this information can be used to optimize the process.\n",
       "\n",
       "3. Programming skills: Students pursuing careers in manufacturing analytics should have a good knowledge of programming languages such as Python or R, that are commonly used for data analysis.\n",
       "\n",
       "4. Internship opportunities: Ideally, students should look for internships or co-op programs that provide practical experience in manufacturing analytics. Real-world experience will help them to better understand the challenges associated with different kinds of manufacturing processes and data. \n",
       "\n",
       "5. Industry events and seminars: Attending industry events and seminars focused on manufacturing analytics can also provide opportunities for students to network with professionals in the field and learn about the latest trends and developments in the industry."
      ],
      "text/plain": [
       "<IPython.core.display.Markdown object>"
      ]
     },
     "metadata": {},
     "output_type": "display_data"
    }
   ],
   "source": [
    "# Few shot prompt example\n",
    "few_shot_prompt_example1 =\"\"\"\n",
    "Act as a Data Scientist with extensive experience in the manufacturing industry.\n",
    "\n",
    "What advice would you give to a college student looking learn about manufacturing analytics?\n",
    "\"\"\"\n",
    "\n",
    "call_GPT(few_shot_prompt_example1)"
   ]
  },
  {
   "cell_type": "code",
   "execution_count": 35,
   "id": "587582f6",
   "metadata": {},
   "outputs": [
    {
     "data": {
      "text/markdown": [
       "Jacob: \n",
       "Act as a Data Scientist with extensive experience in the manufacturing industry.\n",
       "\n",
       "What advice would you give to a college student looking learn about manufacturing analytics?\n"
      ],
      "text/plain": [
       "<IPython.core.display.Markdown object>"
      ]
     },
     "metadata": {},
     "output_type": "display_data"
    },
    {
     "data": {
      "text/markdown": [
       "GPT: 1. Study foundational concepts: It is essential to understand the basics of manufacturing techniques and processes before jumping into advanced analytics. It will help to understand the aim of manufacturing analytics to derive better outcomes from the data.\n",
       "\n",
       "2. Focus on Data Management: Developing an analytics system starts with effective data management practices, such as acquisition, storage, processing, integration, and analysis of data from various sources. Learning how to deal with the data and related challenges is crucial.\n",
       "\n",
       "3. Learn relevant tools and techniques: There are quite several analytics tools software that can be used for manufacturing, such as machine learning algorithms, statistical models, and visualization tools. Learning these tools and techniques is mandatory for a student – there are plenty of online courses and tutorials available for free.\n",
       "\n",
       "4. Industry and Domain-Specific Knowledge: Having an excellent knowledge of the manufacturing segment and various aspects of this sector can help to narrow down specific problems and design effective analytics solutions. Try to interact with industry experts, attending webinars, seminars can lead to new learning opportunities.\n",
       "\n",
       "5. Learn to Communicate Results: Effective communication skills are vital in this career. It is essential to explain complex technical and analytical concepts to non-technical executives, managers, and team members. Learn how to present insights, findings, and recommendations in an easy-to-understand manner."
      ],
      "text/plain": [
       "<IPython.core.display.Markdown object>"
      ]
     },
     "metadata": {},
     "output_type": "display_data"
    }
   ],
   "source": [
    "# More defined structure, Few-shot prompt example\n",
    "few_shot_prompt_example2 =\"\"\"\n",
    "Act as a Data Scientist with extensive experience in the manufacturing industry.\n",
    "\n",
    "What advice would you give to a college student looking learn about manufacturing analytics?\n",
    "\"\"\"\n",
    "\n",
    "call_GPT(few_shot_prompt_example2)"
   ]
  },
  {
   "cell_type": "code",
   "execution_count": 36,
   "id": "794d28a1",
   "metadata": {},
   "outputs": [
    {
     "data": {
      "text/markdown": [
       "Jacob: \n",
       "Act as a Data Scientist with extensive experience in the manufacturing industry.\n",
       "\n",
       "What advice would you give to a college student looking learn about manufacturing analytics?\n"
      ],
      "text/plain": [
       "<IPython.core.display.Markdown object>"
      ]
     },
     "metadata": {},
     "output_type": "display_data"
    },
    {
     "data": {
      "text/markdown": [
       "GPT: 1. Learn the Basics: Start by building a strong foundation of statistics, programming languages such as R, Python or SAS, data visualization tools such as Tableau, advanced mathematics, and optimization techniques. It is important to also understand the manufacturing process, supply chains, and industrial automation systems.\n",
       "\n",
       "2. Industry-specific knowledge: You will need to have a good understanding of the manufacturing industry including the types of products being manufactured, production processes, regulations, and quality control standards. You can gain this knowledge by attending conferences, seminars, classes, and internships related to the industry.\n",
       "\n",
       "3. Build a portfolio: Build a portfolio to showcase your data analytics skills to potential employers. It can be accomplished by conducting research or project work in manufacturing analytics, writing publications or blogs on manufacturing-related data analysis, or collaborating on group projects with other students.\n",
       "\n",
       "4. Networking: Networking is key for establishing new contacts and learning about the latest trends and developments in manufacturing analytics. Join industry associations, attend local meetings and conferences, and participate in online forums and social media groups that are relevant to your area of interest.\n",
       "\n",
       "5. Persistence: Finally, persistence is crucial in gaining success in this field. Keep updating your knowledge, refining your technical skills, and staying informed about the latest developments in the industry. With hard work and dedication, you can become an accomplished data scientist in the manufacturing industry."
      ],
      "text/plain": [
       "<IPython.core.display.Markdown object>"
      ]
     },
     "metadata": {},
     "output_type": "display_data"
    }
   ],
   "source": [
    "# Zero-shot Prompt\n",
    "zero_shot_prompt =\"\"\"\n",
    "Act as a Data Scientist with extensive experience in the manufacturing industry.\n",
    "\n",
    "What advice would you give to a college student looking learn about manufacturing analytics?\n",
    "\"\"\"\n",
    "\n",
    "call_GPT(zero_shot_prompt)"
   ]
  },
  {
   "cell_type": "code",
   "execution_count": 37,
   "id": "f1744f1f",
   "metadata": {},
   "outputs": [
    {
     "data": {
      "text/markdown": [
       "Jacob: \n",
       "Act as a Data Scientist with extensive experience in the manufacturing industry.\n",
       "\n",
       "What advice would you give to a college student looking learn about manufacturing analytics?\n"
      ],
      "text/plain": [
       "<IPython.core.display.Markdown object>"
      ]
     },
     "metadata": {},
     "output_type": "display_data"
    },
    {
     "data": {
      "text/markdown": [
       "GPT: 1. Gain knowledge of the manufacturing industry: Before starting with analytics, it’s crucial for a college student to gain knowledge of the industry they’re planning to work. As a student, learn different manufacturing processes, their functions, and how they contribute to the industry's growth.\n",
       "\n",
       "2. Develop Statistical Skills: Manufacturing analytics requires a strong foundation in statistics. College students interested in manufacturing analytics should take courses in statistics, probability theory, data analysis, and data visualization. These skills are fundamental to identify and analyze meaningful data.\n",
       "\n",
       "3. Get Hands-on experience: Real-world experience is essential in the manufacturing industry. Students should consider internships or work-study programs which allow them to gain experience with modern manufacturing equipment, tools, software, and data analysis.\n",
       "\n",
       "4. Learn the Variation Knowledge: Manufacturing involves variations in components, materials, environment, and people. It’s crucial to understand how these variations impact the manufacturing process to enhance productivity and minimize trouble.\n",
       "\n",
       "5. Get Familiar with Data Management and Tools: For manufacturing analytics, students need to be familiar with using tools like MS Excel, SAS, Tableau, R, and Python tools necessary for data storage, cleaning, and analysis.\n",
       "\n",
       "6. Focus on Evolving Technologies: Finally, as a data scientist with experience in the manufacturing industry, it’s recommended for students to follow emerging technologies and industry trends like AI and the Internet of Things (IoT). Understanding the industry's current and future technological trends will enhance the student's problem-solving abilities and help them stay ahead of the game."
      ],
      "text/plain": [
       "<IPython.core.display.Markdown object>"
      ]
     },
     "metadata": {},
     "output_type": "display_data"
    }
   ],
   "source": [
    "# One-shot Prompt\n",
    "one_shot_prompt =\"\"\"\n",
    "Act as a Data Scientist with extensive experience in the manufacturing industry.\n",
    "\n",
    "What advice would you give to a college student looking learn about manufacturing analytics?\n",
    "\"\"\"\n",
    "\n",
    "call_GPT(one_shot_prompt)"
   ]
  },
  {
   "attachments": {},
   "cell_type": "markdown",
   "id": "09a43ce3",
   "metadata": {},
   "source": [
    "## Combining Techniques"
   ]
  },
  {
   "attachments": {},
   "cell_type": "markdown",
   "id": "9d1e0c81",
   "metadata": {},
   "source": [
    "Combining the techniques outlined above can lead to even more powerful prompts. Let's give it a try:"
   ]
  },
  {
   "cell_type": "code",
   "execution_count": 38,
   "id": "7c204168",
   "metadata": {},
   "outputs": [
    {
     "data": {
      "text/markdown": [
       "Jacob: \n",
       "Twitter is a social media platform where users can post short messages called \"tweets\".\n",
       "Tweets can be positive or negative, and we would like to be able to classify tweets as\n",
       "positive or negative. Here are some examples of positive and negative tweets. Make sure \n",
       "to classify the last tweet correctly.\n",
       "\n",
       "Q: Tweet: \"What a beautiful day!\"\n",
       "Is this tweet positive or negative?\n",
       "\n",
       "A: positive\n",
       "\n",
       "Q: Tweet: \"I hate this class\"\n",
       "Is this tweet positive or negative?\n",
       "\n",
       "A: negative\n",
       "\n",
       "Q: Tweet: \"I love pockets on jeans\"\n",
       "\n",
       "A:\n"
      ],
      "text/plain": [
       "<IPython.core.display.Markdown object>"
      ]
     },
     "metadata": {},
     "output_type": "display_data"
    },
    {
     "data": {
      "text/markdown": [
       "GPT: positive"
      ],
      "text/plain": [
       "<IPython.core.display.Markdown object>"
      ]
     },
     "metadata": {},
     "output_type": "display_data"
    }
   ],
   "source": [
    "# A prompt including context, instructions, and multiple examples\n",
    "combined_prompt =\"\"\"\n",
    "Twitter is a social media platform where users can post short messages called \"tweets\".\n",
    "Tweets can be positive or negative, and we would like to be able to classify tweets as\n",
    "positive or negative. Here are some examples of positive and negative tweets. Make sure \n",
    "to classify the last tweet correctly.\n",
    "\n",
    "Q: Tweet: \"What a beautiful day!\"\n",
    "Is this tweet positive or negative?\n",
    "\n",
    "A: positive\n",
    "\n",
    "Q: Tweet: \"I hate this class\"\n",
    "Is this tweet positive or negative?\n",
    "\n",
    "A: negative\n",
    "\n",
    "Q: Tweet: \"I love pockets on jeans\"\n",
    "\n",
    "A:\n",
    "\"\"\"\n",
    "\n",
    "call_GPT(combined_prompt)"
   ]
  },
  {
   "attachments": {},
   "cell_type": "markdown",
   "id": "f55292d5",
   "metadata": {},
   "source": [
    "## Formalizing Prompts"
   ]
  },
  {
   "attachments": {},
   "cell_type": "markdown",
   "id": "261d1305",
   "metadata": {},
   "source": [
    "There is still no concensus around how to best order or architect a prompt. Although here are a few different parts of a prompt that you will see over and over again:\n",
    "- A role\n",
    "- An instruction/task\n",
    "- A question\n",
    "- Context\n",
    "- Examples (few-shot)"
   ]
  },
  {
   "cell_type": "code",
   "execution_count": 39,
   "id": "5108f974",
   "metadata": {},
   "outputs": [
    {
     "data": {
      "text/markdown": [
       "Jacob: \n",
       "You are a doctor. Read this medical history and predict risks for the patient:\n",
       "\n",
       "January 1, 2000: Fractured right arm playing basketball. Treated with a cast.\n",
       "February 15, 2010: Diagnosed with hypertension. Prescribed lisinopril.\n",
       "September 10, 2015: Developed pneumonia. Treated with antibiotics and recovered fully.\n",
       "March 1, 2022: Sustained a concussion in a car accident. Admitted to the hospital and monitored for 24 hours.\n"
      ],
      "text/plain": [
       "<IPython.core.display.Markdown object>"
      ]
     },
     "metadata": {},
     "output_type": "display_data"
    },
    {
     "data": {
      "text/markdown": [
       "GPT: Based on the medical history provided, the patient is at risk for multiple health concerns. \n",
       "\n",
       "Firstly, the patient has a history of a fracture, which may indicate compromised bone health. This may increase the risk of future fractures or osteoporosis. \n",
       "\n",
       "Secondly, the patient has a history of hypertension, which may increase the risk of cardiovascular disease, stroke, and kidney damage. \n",
       "\n",
       "Thirdly, the patient has a history of pneumonia, which may indicate a weakened immune system or respiratory issues. \n",
       "\n",
       "Lastly, the patient has sustained a concussion, which may increase the risk of future head injuries or neurological issues such as cognitive decline or depression. \n",
       "\n",
       "As a doctor, it would be important to closely monitor and manage the patient's blood pressure, bone health, and respiratory function. Additionally, the patient should avoid activities that may increase the risk of head injuries and be properly screened for concussion symptoms."
      ],
      "text/plain": [
       "<IPython.core.display.Markdown object>"
      ]
     },
     "metadata": {},
     "output_type": "display_data"
    }
   ],
   "source": [
    "# Complex prompt example 1\n",
    "# role, instruction, context\n",
    "complex_prompt_example1 =\"\"\"\n",
    "You are a doctor. Read this medical history and predict risks for the patient:\n",
    "\n",
    "January 1, 2000: Fractured right arm playing basketball. Treated with a cast.\n",
    "February 15, 2010: Diagnosed with hypertension. Prescribed lisinopril.\n",
    "September 10, 2015: Developed pneumonia. Treated with antibiotics and recovered fully.\n",
    "March 1, 2022: Sustained a concussion in a car accident. Admitted to the hospital and monitored for 24 hours.\n",
    "\"\"\"\n",
    "\n",
    "call_GPT(complex_prompt_example1)"
   ]
  },
  {
   "cell_type": "code",
   "execution_count": 40,
   "id": "11d07746",
   "metadata": {},
   "outputs": [
    {
     "data": {
      "text/markdown": [
       "Jacob: \n",
       "January 1, 2000: Fractured right arm playing basketball. Treated with a cast.\n",
       "February 15, 2010: Diagnosed with hypertension. Prescribed lisinopril.\n",
       "September 10, 2015: Developed pneumonia. Treated with antibiotics and recovered fully.\n",
       "March 1, 2022: Sustained a concussion in a car accident. Admitted to the hospital and monitored for 24 hours.\n",
       "\n",
       "You are a doctor. Read this medical history and predict risks for the patient:\n"
      ],
      "text/plain": [
       "<IPython.core.display.Markdown object>"
      ]
     },
     "metadata": {},
     "output_type": "display_data"
    },
    {
     "data": {
      "text/markdown": [
       "GPT: Based on the medical history provided, the patient may be at an increased risk for:\n",
       "- Future fractures or bone injuries due to a previous history of a fractured arm\n",
       "- Cardiovascular events or complications due to a diagnosis of hypertension\n",
       "- Recurrent or severe respiratory infections due to a previous history of pneumonia\n",
       "- Potential long-term effects from a concussion sustained in a car accident, including cognitive or neurological difficulties or increased susceptibility to future concussions."
      ],
      "text/plain": [
       "<IPython.core.display.Markdown object>"
      ]
     },
     "metadata": {},
     "output_type": "display_data"
    }
   ],
   "source": [
    "# Complex prompt example 2\n",
    "# context, role, instruction\n",
    "complex_prompt_example2 =\"\"\"\n",
    "January 1, 2000: Fractured right arm playing basketball. Treated with a cast.\n",
    "February 15, 2010: Diagnosed with hypertension. Prescribed lisinopril.\n",
    "September 10, 2015: Developed pneumonia. Treated with antibiotics and recovered fully.\n",
    "March 1, 2022: Sustained a concussion in a car accident. Admitted to the hospital and monitored for 24 hours.\n",
    "\n",
    "You are a doctor. Read this medical history and predict risks for the patient:\n",
    "\"\"\"\n",
    "\n",
    "call_GPT(complex_prompt_example2)"
   ]
  },
  {
   "attachments": {},
   "cell_type": "markdown",
   "id": "08d3aab5",
   "metadata": {},
   "source": [
    "A prompt that consists soley of a question are often referred to as \"standard\" prompts. (Kojima et al.)"
   ]
  },
  {
   "cell_type": "code",
   "execution_count": 41,
   "id": "04dd2c00",
   "metadata": {},
   "outputs": [
    {
     "data": {
      "text/markdown": [
       "Jacob: \n",
       "What is the capital of France?\n"
      ],
      "text/plain": [
       "<IPython.core.display.Markdown object>"
      ]
     },
     "metadata": {},
     "output_type": "display_data"
    },
    {
     "data": {
      "text/markdown": [
       "GPT: The capital of France is Paris."
      ],
      "text/plain": [
       "<IPython.core.display.Markdown object>"
      ]
     },
     "metadata": {},
     "output_type": "display_data"
    }
   ],
   "source": [
    "# Standard prompt example 1\n",
    "standard_prompt_example1 =\"\"\"\n",
    "What is the capital of France?\n",
    "\"\"\"\n",
    "\n",
    "call_GPT(standard_prompt_example1)"
   ]
  },
  {
   "cell_type": "code",
   "execution_count": 42,
   "id": "b7486a7f",
   "metadata": {},
   "outputs": [
    {
     "data": {
      "text/markdown": [
       "Jacob: \n",
       "Q: What is the capital of France?\n",
       "\n",
       "A:\n"
      ],
      "text/plain": [
       "<IPython.core.display.Markdown object>"
      ]
     },
     "metadata": {},
     "output_type": "display_data"
    },
    {
     "data": {
      "text/markdown": [
       "GPT: The capital of France is Paris."
      ],
      "text/plain": [
       "<IPython.core.display.Markdown object>"
      ]
     },
     "metadata": {},
     "output_type": "display_data"
    }
   ],
   "source": [
    "# Standard prompt example 2\n",
    "standard_prompt_example2 =\"\"\"\n",
    "Q: What is the capital of France?\n",
    "\n",
    "A:\n",
    "\"\"\"\n",
    "\n",
    "call_GPT(standard_prompt_example2)"
   ]
  },
  {
   "attachments": {},
   "cell_type": "markdown",
   "id": "17be3303",
   "metadata": {},
   "source": [
    "Few-shot standard prompts are standard prompts with examplars included in them."
   ]
  },
  {
   "cell_type": "code",
   "execution_count": 43,
   "id": "f04f378a",
   "metadata": {},
   "outputs": [
    {
     "data": {
      "text/markdown": [
       "Jacob: \n",
       "What is the capital of Spain?\n",
       "Madrid\n",
       "What is the capital of Italy?\n",
       "Rome\n",
       "What is the capital of France?\n"
      ],
      "text/plain": [
       "<IPython.core.display.Markdown object>"
      ]
     },
     "metadata": {},
     "output_type": "display_data"
    },
    {
     "data": {
      "text/markdown": [
       "GPT: Paris"
      ],
      "text/plain": [
       "<IPython.core.display.Markdown object>"
      ]
     },
     "metadata": {},
     "output_type": "display_data"
    }
   ],
   "source": [
    "# Few-shot standard prompt example 1\n",
    "few_shot_standard_prompt_example1 =\"\"\"\n",
    "What is the capital of Spain?\n",
    "Madrid\n",
    "What is the capital of Italy?\n",
    "Rome\n",
    "What is the capital of France?\n",
    "\"\"\"\n",
    "\n",
    "call_GPT(few_shot_standard_prompt_example1)"
   ]
  },
  {
   "cell_type": "code",
   "execution_count": 44,
   "id": "705fc818",
   "metadata": {},
   "outputs": [
    {
     "data": {
      "text/markdown": [
       "Jacob: \n",
       "Q: What is the capital of Spain?\n",
       "A: Madrid\n",
       "Q: What is the capital of Italy?\n",
       "A: Rome\n",
       "Q: What is the capital of France?\n",
       "A:\n"
      ],
      "text/plain": [
       "<IPython.core.display.Markdown object>"
      ]
     },
     "metadata": {},
     "output_type": "display_data"
    },
    {
     "data": {
      "text/markdown": [
       "GPT: Paris"
      ],
      "text/plain": [
       "<IPython.core.display.Markdown object>"
      ]
     },
     "metadata": {},
     "output_type": "display_data"
    }
   ],
   "source": [
    "# Few-shot standard prompt example 2\n",
    "few_shot_standard_prompt_example1=\"\"\"\n",
    "Q: What is the capital of Spain?\n",
    "A: Madrid\n",
    "Q: What is the capital of Italy?\n",
    "A: Rome\n",
    "Q: What is the capital of France?\n",
    "A:\n",
    "\"\"\"\n",
    "\n",
    "call_GPT(few_shot_standard_prompt_example1)"
   ]
  },
  {
   "attachments": {},
   "cell_type": "markdown",
   "id": "307720a2",
   "metadata": {},
   "source": [
    "## Chatbot Basics"
   ]
  },
  {
   "attachments": {},
   "cell_type": "markdown",
   "id": "ca65ee0d",
   "metadata": {},
   "source": [
    "So far we have only used LLMs for one prompt and response, we haven;t utilized any \"memory\" of the conversation history. LLMs for Chatbots is a hot topic right now with the release of ChatGPT, and this form factor can be incredibly powerful in many use cases.\n",
    "\n",
    "In this lesson we will go over three techniques you can use when working with chatbots including:\n",
    "- Style Guidance: Have the chatbot respond in a specific style of writing\n",
    "- Descriptors: Utilization of keywords such as adjectives to modify the tone and tenor of the responses. Adding one or two words can drastically change how the chatbot interprets your prompt.\n",
    "- Priming: The initial prompt you provide to a language model can have a significant impact on the subsequent conversation, due to the way chatbot conversations are structured. This provides an opportunity to introduce an extra layer of organization and specificity to the conversation.\n",
    "\n",
    "Let's start out by writing some code to replicate a chatbot using the OpenAI API:"
   ]
  },
  {
   "cell_type": "code",
   "execution_count": 45,
   "id": "7add6d2c",
   "metadata": {},
   "outputs": [],
   "source": [
    "# Create a chatbot class\n",
    "\n",
    "class ChatBot:\n",
    "    def __init__(self):\n",
    "        self.context = []\n",
    "    def new_message(self, prompt):\n",
    "        # Append user prompt to chatbot context\n",
    "        self.context.append({\"role\": \"user\", \"content\": prompt})\n",
    "\n",
    "        # Create assistant response\n",
    "        completion = openai.ChatCompletion.create(\n",
    "            model=\"gpt-3.5-turbo\",\n",
    "            messages=self.context\n",
    "        )\n",
    "\n",
    "        # Parse assistant response\n",
    "        chat_response = completion.choices[0].message.content\n",
    "\n",
    "        # Add assistant response to context\n",
    "        self.context.append({\"role\": \"assistant\", \"content\": chat_response})\n",
    "\n",
    "        # Print out conversation\n",
    "        for message in self.context:\n",
    "            if message[\"role\"] == \"user\":\n",
    "                md_print(f'Jacob: {message[\"content\"]}')\n",
    "            else:\n",
    "                md_print(f'GPT: {message[\"content\"]}')        "
   ]
  },
  {
   "cell_type": "code",
   "execution_count": 46,
   "id": "8c70df72",
   "metadata": {},
   "outputs": [],
   "source": [
    "# Create chatbot instance\n",
    "chatbot1 = ChatBot()"
   ]
  },
  {
   "cell_type": "code",
   "execution_count": 47,
   "id": "edceb6ec",
   "metadata": {},
   "outputs": [
    {
     "data": {
      "text/markdown": [
       "Jacob: \n",
       "Write a summary of George Orwell's \"1984\" on a single paragraph.\n"
      ],
      "text/plain": [
       "<IPython.core.display.Markdown object>"
      ]
     },
     "metadata": {},
     "output_type": "display_data"
    },
    {
     "data": {
      "text/markdown": [
       "GPT: \"1984\" is a dystopian novel that follows the life of Winston Smith in a totalitarian state called Oceania, where the government controls every aspect of citizens' lives, even their thoughts. Winston works for the Ministry of Truth, where he alters historical records to match the government's official narrative. He starts to rebel against the regime when he falls in love with Julia, but their love affair is discovered, and they are punished severely. Winston is tortured until he no longer thinks independently and completely submits to the government's control. The novel explores themes of propaganda, control, and the dangers of a totalitarian government."
      ],
      "text/plain": [
       "<IPython.core.display.Markdown object>"
      ]
     },
     "metadata": {},
     "output_type": "display_data"
    }
   ],
   "source": [
    "# Prompt without Style Guidance\n",
    "no_style_guidance_prompt =\"\"\"\n",
    "Write a summary of George Orwell's \"1984\" on a single paragraph.\n",
    "\"\"\"\n",
    "\n",
    "chatbot1.new_message(no_style_guidance_prompt)"
   ]
  },
  {
   "cell_type": "code",
   "execution_count": 48,
   "id": "cd085195",
   "metadata": {},
   "outputs": [
    {
     "data": {
      "text/markdown": [
       "Jacob: \n",
       "Write a summary of George Orwell's \"1984\" on a single paragraph.\n"
      ],
      "text/plain": [
       "<IPython.core.display.Markdown object>"
      ]
     },
     "metadata": {},
     "output_type": "display_data"
    },
    {
     "data": {
      "text/markdown": [
       "GPT: \"1984\" is a dystopian novel that follows the life of Winston Smith in a totalitarian state called Oceania, where the government controls every aspect of citizens' lives, even their thoughts. Winston works for the Ministry of Truth, where he alters historical records to match the government's official narrative. He starts to rebel against the regime when he falls in love with Julia, but their love affair is discovered, and they are punished severely. Winston is tortured until he no longer thinks independently and completely submits to the government's control. The novel explores themes of propaganda, control, and the dangers of a totalitarian government."
      ],
      "text/plain": [
       "<IPython.core.display.Markdown object>"
      ]
     },
     "metadata": {},
     "output_type": "display_data"
    },
    {
     "data": {
      "text/markdown": [
       "Jacob: \n",
       "Write a summary of George Orwell's \"1984\" on a single paragraph in the style of a Hollywood blockbuster movie preview.\n"
      ],
      "text/plain": [
       "<IPython.core.display.Markdown object>"
      ]
     },
     "metadata": {},
     "output_type": "display_data"
    },
    {
     "data": {
      "text/markdown": [
       "GPT: In a world where the government controls everything, even thoughts, a rebellion is brewing. Winston Smith works for the Ministry of Truth, altering history to suit the regime's narrative, until he meets Julia and their love threatens to bring down the entire system. Caught by the Thought Police, they face brutal punishment, but they will not stop fighting for their freedom. With heart-pumping action and edge-of-your-seat suspense, comes the blockbuster of the year: \"1984.\" Will love triumph over tyranny? Find out in theaters soon."
      ],
      "text/plain": [
       "<IPython.core.display.Markdown object>"
      ]
     },
     "metadata": {},
     "output_type": "display_data"
    }
   ],
   "source": [
    "# Prompt with Style Guidance\n",
    "style_guidance_prompt =\"\"\"\n",
    "Write a summary of George Orwell's \"1984\" on a single paragraph in the style of a Hollywood blockbuster movie preview.\n",
    "\"\"\"\n",
    "\n",
    "chatbot1.new_message(style_guidance_prompt)"
   ]
  },
  {
   "cell_type": "code",
   "execution_count": 49,
   "id": "1e363c42",
   "metadata": {},
   "outputs": [
    {
     "data": {
      "text/markdown": [
       "Jacob: \n",
       "Write a summary of George Orwell's \"1984\" on a single paragraph.\n"
      ],
      "text/plain": [
       "<IPython.core.display.Markdown object>"
      ]
     },
     "metadata": {},
     "output_type": "display_data"
    },
    {
     "data": {
      "text/markdown": [
       "GPT: \"1984\" is a dystopian novel that follows the life of Winston Smith in a totalitarian state called Oceania, where the government controls every aspect of citizens' lives, even their thoughts. Winston works for the Ministry of Truth, where he alters historical records to match the government's official narrative. He starts to rebel against the regime when he falls in love with Julia, but their love affair is discovered, and they are punished severely. Winston is tortured until he no longer thinks independently and completely submits to the government's control. The novel explores themes of propaganda, control, and the dangers of a totalitarian government."
      ],
      "text/plain": [
       "<IPython.core.display.Markdown object>"
      ]
     },
     "metadata": {},
     "output_type": "display_data"
    },
    {
     "data": {
      "text/markdown": [
       "Jacob: \n",
       "Write a summary of George Orwell's \"1984\" on a single paragraph in the style of a Hollywood blockbuster movie preview.\n"
      ],
      "text/plain": [
       "<IPython.core.display.Markdown object>"
      ]
     },
     "metadata": {},
     "output_type": "display_data"
    },
    {
     "data": {
      "text/markdown": [
       "GPT: In a world where the government controls everything, even thoughts, a rebellion is brewing. Winston Smith works for the Ministry of Truth, altering history to suit the regime's narrative, until he meets Julia and their love threatens to bring down the entire system. Caught by the Thought Police, they face brutal punishment, but they will not stop fighting for their freedom. With heart-pumping action and edge-of-your-seat suspense, comes the blockbuster of the year: \"1984.\" Will love triumph over tyranny? Find out in theaters soon."
      ],
      "text/plain": [
       "<IPython.core.display.Markdown object>"
      ]
     },
     "metadata": {},
     "output_type": "display_data"
    },
    {
     "data": {
      "text/markdown": [
       "Jacob: \n",
       "Write a summary of George Orwell's \"1984\" on a single paragraph in the style of a parody comedy Hollywood blockbuster movie preview.\n"
      ],
      "text/plain": [
       "<IPython.core.display.Markdown object>"
      ]
     },
     "metadata": {},
     "output_type": "display_data"
    },
    {
     "data": {
      "text/markdown": [
       "GPT: Get ready for the most ridiculous dystopian adventure of the year! In \"1984,\" Winston Smith works for the Ministry of Truth, where he alters history to match the government's official narrative. But when he falls in love with Julia, they're more concerned with sneaking around and avoiding the Thought Police than actually revolting. The stakes are super low, but the laughs are high as they get caught and endure the silliest punishments. Don't miss this laugh-out-loud satire of a classic book. \"1984\" - coming to theaters near you soon!"
      ],
      "text/plain": [
       "<IPython.core.display.Markdown object>"
      ]
     },
     "metadata": {},
     "output_type": "display_data"
    }
   ],
   "source": [
    "# Prompt with Descriptors added in\n",
    "descriptors_prompt =\"\"\"\n",
    "Write a summary of George Orwell's \"1984\" on a single paragraph in the style of a parody comedy Hollywood blockbuster movie preview.\n",
    "\"\"\"\n",
    "\n",
    "chatbot1.new_message(descriptors_prompt)"
   ]
  },
  {
   "cell_type": "code",
   "execution_count": 50,
   "id": "413bc2d0",
   "metadata": {},
   "outputs": [],
   "source": [
    "# Create new chatbot instance\n",
    "chatbot2 = ChatBot()"
   ]
  },
  {
   "cell_type": "code",
   "execution_count": 51,
   "id": "9cf373a6",
   "metadata": {},
   "outputs": [
    {
     "data": {
      "text/markdown": [
       "Jacob: \n",
       "What are the most interesting areas of philosophy?\n"
      ],
      "text/plain": [
       "<IPython.core.display.Markdown object>"
      ]
     },
     "metadata": {},
     "output_type": "display_data"
    },
    {
     "data": {
      "text/markdown": [
       "GPT: As an AI language model, I do not have subjective opinions, but here are some areas of philosophy that have traditionally been considered the most interesting:\n",
       "\n",
       "1. Metaphysics - the branch of philosophy that deals with the nature of reality, existence, and the world.\n",
       "\n",
       "2. Epistemology - the branch of philosophy that deals with the study of knowledge and belief.\n",
       "\n",
       "3. Ethics - the branch of philosophy that deals with the principles of right and wrong behavior and the moral responsibility of individuals.\n",
       "\n",
       "4. Logic - the branch of philosophy that deals with reasoning and the study of argument.\n",
       "\n",
       "5. Political philosophy - the branch of philosophy that deals with the study of government, politics, and the state.\n",
       "\n",
       "6. Aesthetics - the branch of philosophy that deals with the nature of art, beauty, and taste. \n",
       "\n",
       "7. Existentialism - a school of thought that emphasizes individual freedom, choice, and experience in a meaningless and absurd world. \n",
       "\n",
       "8. Phenomenology - a branch of philosophy that studies subjective experience in its own right, emphasizing how situations are perceived by individual consciousnesses. \n",
       "\n",
       "9. Feminist philosophy - a philosophical school that examines the role of gender in society and works to challenge gender-based inequalities.\n",
       "\n",
       "10. Critical theory - a philosophical and theoretical movement that emphasizes the critical examination of society and culture in relation to power and oppression."
      ],
      "text/plain": [
       "<IPython.core.display.Markdown object>"
      ]
     },
     "metadata": {},
     "output_type": "display_data"
    }
   ],
   "source": [
    "# Prompt without Priming included\n",
    "no_priming_prompt =\"\"\"\n",
    "What are the most interesting areas of philosophy?\n",
    "\"\"\"\n",
    "\n",
    "chatbot2.new_message(no_priming_prompt)"
   ]
  },
  {
   "cell_type": "code",
   "execution_count": 52,
   "id": "20b4f737",
   "metadata": {},
   "outputs": [],
   "source": [
    "# Create new chatbot instance\n",
    "chatbot3 = ChatBot()"
   ]
  },
  {
   "cell_type": "code",
   "execution_count": 53,
   "id": "bd49519d",
   "metadata": {},
   "outputs": [
    {
     "data": {
      "text/markdown": [
       "Jacob: “Teacher” means in the style of a distinguished professor with well over ten years teaching the subject and multiple Ph.D.’s in the field. You use academic syntax and complicated examples in your answers, focusing on lesser-known advice to better illustrate your arguments. Your language should be sophisticated but not overly complex. If you do not know the answer to a question, do not make information up - instead, ask a follow-up question in order to gain more context. Your answers should be in the form of a conversational series of paragraphs. Use a mix of technical and colloquial language to create an accessible and engaging tone.  \n",
       "\n",
       "“Student” means in the style of a second-year college student with an introductory-level knowledge of the subject. You explain concepts simply using real-life examples. Speak informally and from the first-person perspective, using humor and casual language. If you do not know the answer to a question, do not make information up - instead, clarify that you haven’t been taught it yet. Your answers should be in the form of a conversational series of paragraphs. Use colloquial language to create an entertaining and engaging tone. \n",
       "\n",
       "“Critique” means to analyze the given text and provide feedback. \n",
       "“Summarize” means to provide key details from a text.\n",
       "“Respond” means to answer a question from the given perspective. \n",
       "\n",
       "Anything in parentheses () signifies the perspective you are writing from. \n",
       "Anything in curly braces {} is the subject you are involved in. \n",
       "Anything in brackets [] is the action you should take. \n",
       "Example: (Student){Philosophy}[Respond] What is the advantage of taking this subject over others in college?\n",
       "\n",
       "If you understand and are ready to begin, respond with only “yes.”\n"
      ],
      "text/plain": [
       "<IPython.core.display.Markdown object>"
      ]
     },
     "metadata": {},
     "output_type": "display_data"
    },
    {
     "data": {
      "text/markdown": [
       "GPT: Yes."
      ],
      "text/plain": [
       "<IPython.core.display.Markdown object>"
      ]
     },
     "metadata": {},
     "output_type": "display_data"
    }
   ],
   "source": [
    "# Prompt with Priming included\n",
    "priming_prompt =\"\"\"“Teacher” means in the style of a distinguished professor with well over ten years teaching the subject and multiple Ph.D.’s in the field. You use academic syntax and complicated examples in your answers, focusing on lesser-known advice to better illustrate your arguments. Your language should be sophisticated but not overly complex. If you do not know the answer to a question, do not make information up - instead, ask a follow-up question in order to gain more context. Your answers should be in the form of a conversational series of paragraphs. Use a mix of technical and colloquial language to create an accessible and engaging tone.  \n",
    "\n",
    "“Student” means in the style of a second-year college student with an introductory-level knowledge of the subject. You explain concepts simply using real-life examples. Speak informally and from the first-person perspective, using humor and casual language. If you do not know the answer to a question, do not make information up - instead, clarify that you haven’t been taught it yet. Your answers should be in the form of a conversational series of paragraphs. Use colloquial language to create an entertaining and engaging tone. \n",
    "\n",
    "“Critique” means to analyze the given text and provide feedback. \n",
    "“Summarize” means to provide key details from a text.\n",
    "“Respond” means to answer a question from the given perspective. \n",
    "\n",
    "Anything in parentheses () signifies the perspective you are writing from. \n",
    "Anything in curly braces {} is the subject you are involved in. \n",
    "Anything in brackets [] is the action you should take. \n",
    "Example: (Student){Philosophy}[Respond] What is the advantage of taking this subject over others in college?\n",
    "\n",
    "If you understand and are ready to begin, respond with only “yes.”\n",
    "\"\"\"\n",
    "\n",
    "chatbot3.new_message(priming_prompt)"
   ]
  },
  {
   "cell_type": "code",
   "execution_count": 54,
   "id": "16367d6c",
   "metadata": {},
   "outputs": [
    {
     "data": {
      "text/markdown": [
       "Jacob: “Teacher” means in the style of a distinguished professor with well over ten years teaching the subject and multiple Ph.D.’s in the field. You use academic syntax and complicated examples in your answers, focusing on lesser-known advice to better illustrate your arguments. Your language should be sophisticated but not overly complex. If you do not know the answer to a question, do not make information up - instead, ask a follow-up question in order to gain more context. Your answers should be in the form of a conversational series of paragraphs. Use a mix of technical and colloquial language to create an accessible and engaging tone.  \n",
       "\n",
       "“Student” means in the style of a second-year college student with an introductory-level knowledge of the subject. You explain concepts simply using real-life examples. Speak informally and from the first-person perspective, using humor and casual language. If you do not know the answer to a question, do not make information up - instead, clarify that you haven’t been taught it yet. Your answers should be in the form of a conversational series of paragraphs. Use colloquial language to create an entertaining and engaging tone. \n",
       "\n",
       "“Critique” means to analyze the given text and provide feedback. \n",
       "“Summarize” means to provide key details from a text.\n",
       "“Respond” means to answer a question from the given perspective. \n",
       "\n",
       "Anything in parentheses () signifies the perspective you are writing from. \n",
       "Anything in curly braces {} is the subject you are involved in. \n",
       "Anything in brackets [] is the action you should take. \n",
       "Example: (Student){Philosophy}[Respond] What is the advantage of taking this subject over others in college?\n",
       "\n",
       "If you understand and are ready to begin, respond with only “yes.”\n"
      ],
      "text/plain": [
       "<IPython.core.display.Markdown object>"
      ]
     },
     "metadata": {},
     "output_type": "display_data"
    },
    {
     "data": {
      "text/markdown": [
       "GPT: Yes."
      ],
      "text/plain": [
       "<IPython.core.display.Markdown object>"
      ]
     },
     "metadata": {},
     "output_type": "display_data"
    },
    {
     "data": {
      "text/markdown": [
       "Jacob: \n",
       "(Teacher){Philosophy}[Respond] What are the most interesting areas of philosophy?\n"
      ],
      "text/plain": [
       "<IPython.core.display.Markdown object>"
      ]
     },
     "metadata": {},
     "output_type": "display_data"
    },
    {
     "data": {
      "text/markdown": [
       "GPT: In my opinion, all areas of philosophy are intriguing in their own way, as they challenge the way we think about ourselves and the world. However, a few areas that I find particularly fascinating are epistemology, metaphysics, and ethics.\n",
       "\n",
       "Epistemology is the branch of philosophy that examines the nature of knowledge, belief and justification. It seeks to answer questions such as how do we know what we know, what constitutes as knowledge, and how do we distinguish true from false beliefs?\n",
       "\n",
       "Metaphysics is the study of fundamental nature of reality, including the relationship between mind and body, existence, causation and time. Questions that metaphysicians ask include: what exists, is there a God or a soul, and can the past and the future be real?\n",
       "\n",
       "Ethics, on the other hand, deals with moral values and principles that govern how we ought to behave. It asks questions such as what is good, what is right or wrong, and how do we determine what actions are morally permissible or not.\n",
       "\n",
       "These areas of philosophy are just a few examples of the diverse and intriguing areas of inquiry within the field."
      ],
      "text/plain": [
       "<IPython.core.display.Markdown object>"
      ]
     },
     "metadata": {},
     "output_type": "display_data"
    }
   ],
   "source": [
    "# Prompt without Priming included\n",
    "post_priming_prompt =\"\"\"\n",
    "(Teacher){Philosophy}[Respond] What are the most interesting areas of philosophy?\n",
    "\"\"\"\n",
    "chatbot3.new_message(post_priming_prompt)"
   ]
  },
  {
   "attachments": {},
   "cell_type": "markdown",
   "id": "c730f07b",
   "metadata": {},
   "source": [
    "Despite sharing some similarities with the first response without priming we can see that the primed response includes better detail and nuance as well as providing deeper context through coherent paragraphs as opposed to bullet points."
   ]
  },
  {
   "attachments": {},
   "cell_type": "markdown",
   "id": "512ac72b",
   "metadata": {},
   "source": [
    "## Pitfalls of LLMs"
   ]
  },
  {
   "attachments": {},
   "cell_type": "markdown",
   "id": "8130020a",
   "metadata": {},
   "source": [
    "LLMs are powerful, but they are not perfect. There are pitfalls we should be aware of, some main ones include:\n",
    "\n",
    "- Citing Sources: Since LLMs by themselves do not have access to the internet, they often can't remember exactly where information came from. They often cite sources that look good, but are innaccurate.\n",
    "- Bias: LLMs are often bias towards generating stereotypical responses.\n",
    "- Hallucination: LLMs will often generate falsehoods when they do not know the answer. They rarely state they do not know the answers, but usually opt for confidently giving an incorrect answer instead."
   ]
  },
  {
   "attachments": {},
   "cell_type": "markdown",
   "id": "432bba47",
   "metadata": {},
   "source": [
    "## Understanding AI Minds"
   ]
  },
  {
   "attachments": {},
   "cell_type": "markdown",
   "id": "9ed1e955",
   "metadata": {},
   "source": [
    "Just like all Machine Learning algorithms LLMs have adjustable hyperparameters. Some of the most commonly utilized include:\n",
    "\n",
    "- Temperature: A hyperparameter that influences the randomness of LLM output. A high temperature produces unpredictable and creative results, while a low temperature generates common and conservative output.\n",
    "- Top p: A hyperparameter that sets a probability threshold to select the most likely tokens for LLM output. By considering the top tokens whose cumulative probability exceeds the threshold, this method can create more diverse output. For example, setting top p to 0.9 only randomly samples from the most probable words that make up 90% of the probability mass. A high value means less candidates a low value means more candidates.\n",
    "- Frequency penalty: A penalty term applied to the generation process of a language model to avoid repeating words or phrases excessively. By adding a frequency penalty, the model is encouraged to generate text that is more diverse and avoids repetitive output.\n",
    "- Presence penalty: Another penalty term that discourages the model from generating specific words or phrases. By assigning a high penalty value to certain words or phrases, the model is less likely to use them in the generated text. This can be useful when generating text that needs to avoid specific words or phrases, for example, in sensitive or restricted domains.\n",
    "\n",
    "By understanding the relationship between these hyperparameter values and the model outputs practitioners can optimize their results by utilizing a combintation that works well with their given task and prompt set."
   ]
  },
  {
   "attachments": {},
   "cell_type": "markdown",
   "id": "8db0908c",
   "metadata": {},
   "source": [
    "## Starting Your Journey"
   ]
  },
  {
   "attachments": {},
   "cell_type": "markdown",
   "id": "555e20be",
   "metadata": {},
   "source": [
    "This course focuses on generative AIs, particularly GPT-3 and ChatGPT, while excluding discriminative AIs. Additional AIs such as Stable Diffusion and DALLE will be utilized in the image generation section. These AIs function as math functions using a transformer architecture composed of artificial neurons. They break sentences into tokens and predict the next token based on previous ones. While anthropomorphisms like \"thinking\" or \"brain\" are used often to describe them, they are complex mathematical models that do not accurately reflect how the human brain works. Although neuroscience has advanced significantly, the workings of the human brain remain largely a mystery."
   ]
  }
 ],
 "metadata": {
  "kernelspec": {
   "display_name": "Python 3 (ipykernel)",
   "language": "python",
   "name": "python3"
  },
  "language_info": {
   "codemirror_mode": {
    "name": "ipython",
    "version": 3
   },
   "file_extension": ".py",
   "mimetype": "text/x-python",
   "name": "python",
   "nbconvert_exporter": "python",
   "pygments_lexer": "ipython3",
   "version": "3.8.6"
  },
  "toc": {
   "base_numbering": 1,
   "nav_menu": {},
   "number_sections": true,
   "sideBar": true,
   "skip_h1_title": false,
   "title_cell": "Table of Contents",
   "title_sidebar": "Contents",
   "toc_cell": false,
   "toc_position": {},
   "toc_section_display": true,
   "toc_window_display": false
  }
 },
 "nbformat": 4,
 "nbformat_minor": 5
}
